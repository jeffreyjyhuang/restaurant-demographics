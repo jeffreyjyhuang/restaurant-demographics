{
 "cells": [
  {
   "cell_type": "markdown",
   "metadata": {
    "toc": true
   },
   "source": [
    "<h1>Table of Contents<span class=\"tocSkip\"></span></h1>\n",
    "<div class=\"toc\"><ul class=\"toc-item\"><li><span><a href=\"#Modelling:-Introduction\" data-toc-modified-id=\"Modelling:-Introduction-1\">Modelling: Introduction</a></span></li><li><span><a href=\"#Data\" data-toc-modified-id=\"Data-2\">Data</a></span><ul class=\"toc-item\"><li><span><a href=\"#Splitting-data-into-features/target-variables\" data-toc-modified-id=\"Splitting-data-into-features/target-variables-2.1\">Splitting data into features/target variables</a></span><ul class=\"toc-item\"><li><span><a href=\"#Removing-correlated-columns\" data-toc-modified-id=\"Removing-correlated-columns-2.1.1\">Removing correlated columns</a></span></li></ul></li></ul></li><li><span><a href=\"#Train/Test-Split\" data-toc-modified-id=\"Train/Test-Split-3\">Train/Test Split</a></span></li><li><span><a href=\"#PCA\" data-toc-modified-id=\"PCA-4\">PCA</a></span></li><li><span><a href=\"#Logistic-Regression\" data-toc-modified-id=\"Logistic-Regression-5\">Logistic Regression</a></span></li><li><span><a href=\"#Decision-Trees\" data-toc-modified-id=\"Decision-Trees-6\">Decision Trees</a></span></li><li><span><a href=\"#Neural-Networks\" data-toc-modified-id=\"Neural-Networks-7\">Neural Networks</a></span></li><li><span><a href=\"#Adaptive-Boosting\" data-toc-modified-id=\"Adaptive-Boosting-8\">Adaptive Boosting</a></span></li><li><span><a href=\"#Extreme-Gradient-Boosting\" data-toc-modified-id=\"Extreme-Gradient-Boosting-9\">Extreme Gradient Boosting</a></span></li><li><span><a href=\"#Gradient-Boosting\" data-toc-modified-id=\"Gradient-Boosting-10\">Gradient Boosting</a></span><ul class=\"toc-item\"><li><ul class=\"toc-item\"><li><span><a href=\"#Tuning--learning_rate\" data-toc-modified-id=\"Tuning--learning_rate-10.0.1\">Tuning  <code>learning_rate</code></a></span></li><li><span><a href=\"#Tuning-n_estimators\" data-toc-modified-id=\"Tuning-n_estimators-10.0.2\">Tuning <code>n_estimators</code></a></span></li><li><span><a href=\"#Tuning-max_depth\" data-toc-modified-id=\"Tuning-max_depth-10.0.3\">Tuning <code>max_depth</code></a></span></li><li><span><a href=\"#Tuning-min_samples_splits\" data-toc-modified-id=\"Tuning-min_samples_splits-10.0.4\">Tuning <code>min_samples_splits</code></a></span></li><li><span><a href=\"#Tuning-min_samples_leaf\" data-toc-modified-id=\"Tuning-min_samples_leaf-10.0.5\">Tuning <code>min_samples_leaf</code></a></span></li><li><span><a href=\"#Tuning-max_features\" data-toc-modified-id=\"Tuning-max_features-10.0.6\">Tuning <code>max_features</code></a></span></li></ul></li></ul></li><li><span><a href=\"#Making-Predictions\" data-toc-modified-id=\"Making-Predictions-11\">Making Predictions</a></span></li></ul></div>"
   ]
  },
  {
   "cell_type": "markdown",
   "metadata": {},
   "source": [
    "## Modelling: Introduction"
   ]
  },
  {
   "cell_type": "markdown",
   "metadata": {},
   "source": [
    "In this notebook, I will present various models I fitted to the data, as well as the findings and insights that came along with it."
   ]
  },
  {
   "cell_type": "code",
   "execution_count": 96,
   "metadata": {},
   "outputs": [],
   "source": [
    "import pandas as pd\n",
    "import numpy as np\n",
    "import matplotlib.pyplot as plt\n",
    "import seaborn as sns"
   ]
  },
  {
   "cell_type": "markdown",
   "metadata": {},
   "source": [
    "## Data"
   ]
  },
  {
   "cell_type": "code",
   "execution_count": 97,
   "metadata": {},
   "outputs": [
    {
     "name": "stdout",
     "output_type": "stream",
     "text": [
      "Shape of data: (7202, 148)\n"
     ]
    }
   ],
   "source": [
    "# Importing Data\n",
    "\n",
    "data = pd.read_csv('model_data.csv', index_col=0)\n",
    "print(f\"Shape of data: {data.shape}\")"
   ]
  },
  {
   "cell_type": "code",
   "execution_count": 98,
   "metadata": {},
   "outputs": [
    {
     "data": {
      "text/html": [
       "<div>\n",
       "<style scoped>\n",
       "    .dataframe tbody tr th:only-of-type {\n",
       "        vertical-align: middle;\n",
       "    }\n",
       "\n",
       "    .dataframe tbody tr th {\n",
       "        vertical-align: top;\n",
       "    }\n",
       "\n",
       "    .dataframe thead th {\n",
       "        text-align: right;\n",
       "    }\n",
       "</style>\n",
       "<table border=\"1\" class=\"dataframe\">\n",
       "  <thead>\n",
       "    <tr style=\"text-align: right;\">\n",
       "      <th></th>\n",
       "      <th>name</th>\n",
       "      <th>review_count</th>\n",
       "      <th>FSA</th>\n",
       "      <th>price_range</th>\n",
       "      <th>take_out</th>\n",
       "      <th>success</th>\n",
       "      <th>Visible_Minority_Population_Pct</th>\n",
       "      <th>South_Asian_Pct</th>\n",
       "      <th>Chinese_Pct</th>\n",
       "      <th>Black_Pct</th>\n",
       "      <th>...</th>\n",
       "      <th>Japanese</th>\n",
       "      <th>Korean</th>\n",
       "      <th>Mexican</th>\n",
       "      <th>Misc</th>\n",
       "      <th>Non-Visible Minority Foods</th>\n",
       "      <th>South East Asian</th>\n",
       "      <th>Specialty</th>\n",
       "      <th>Vegetarian/Vegan</th>\n",
       "      <th>West Asian</th>\n",
       "      <th>avg_hours_in_week</th>\n",
       "    </tr>\n",
       "  </thead>\n",
       "  <tbody>\n",
       "    <tr>\n",
       "      <th>0</th>\n",
       "      <td>Bakery Gateau</td>\n",
       "      <td>8</td>\n",
       "      <td>M3B</td>\n",
       "      <td>2</td>\n",
       "      <td>1</td>\n",
       "      <td>1</td>\n",
       "      <td>6495.0</td>\n",
       "      <td>1070.0</td>\n",
       "      <td>3310.0</td>\n",
       "      <td>185.0</td>\n",
       "      <td>...</td>\n",
       "      <td>0</td>\n",
       "      <td>0</td>\n",
       "      <td>0</td>\n",
       "      <td>0</td>\n",
       "      <td>0</td>\n",
       "      <td>0</td>\n",
       "      <td>0</td>\n",
       "      <td>0</td>\n",
       "      <td>0</td>\n",
       "      <td>11.000</td>\n",
       "    </tr>\n",
       "    <tr>\n",
       "      <th>1</th>\n",
       "      <td>Better than Yia Yia's</td>\n",
       "      <td>5</td>\n",
       "      <td>M3B</td>\n",
       "      <td>2</td>\n",
       "      <td>1</td>\n",
       "      <td>1</td>\n",
       "      <td>6495.0</td>\n",
       "      <td>1070.0</td>\n",
       "      <td>3310.0</td>\n",
       "      <td>185.0</td>\n",
       "      <td>...</td>\n",
       "      <td>0</td>\n",
       "      <td>0</td>\n",
       "      <td>0</td>\n",
       "      <td>0</td>\n",
       "      <td>0</td>\n",
       "      <td>0</td>\n",
       "      <td>0</td>\n",
       "      <td>0</td>\n",
       "      <td>1</td>\n",
       "      <td>12.000</td>\n",
       "    </tr>\n",
       "    <tr>\n",
       "      <th>2</th>\n",
       "      <td>Spoon And Fork Plus</td>\n",
       "      <td>165</td>\n",
       "      <td>M3B</td>\n",
       "      <td>2</td>\n",
       "      <td>1</td>\n",
       "      <td>0</td>\n",
       "      <td>6495.0</td>\n",
       "      <td>1070.0</td>\n",
       "      <td>3310.0</td>\n",
       "      <td>185.0</td>\n",
       "      <td>...</td>\n",
       "      <td>0</td>\n",
       "      <td>0</td>\n",
       "      <td>0</td>\n",
       "      <td>0</td>\n",
       "      <td>0</td>\n",
       "      <td>1</td>\n",
       "      <td>0</td>\n",
       "      <td>0</td>\n",
       "      <td>0</td>\n",
       "      <td>10.786</td>\n",
       "    </tr>\n",
       "    <tr>\n",
       "      <th>3</th>\n",
       "      <td>California Sandwiches</td>\n",
       "      <td>36</td>\n",
       "      <td>M3B</td>\n",
       "      <td>2</td>\n",
       "      <td>1</td>\n",
       "      <td>1</td>\n",
       "      <td>6495.0</td>\n",
       "      <td>1070.0</td>\n",
       "      <td>3310.0</td>\n",
       "      <td>185.0</td>\n",
       "      <td>...</td>\n",
       "      <td>0</td>\n",
       "      <td>0</td>\n",
       "      <td>0</td>\n",
       "      <td>0</td>\n",
       "      <td>0</td>\n",
       "      <td>0</td>\n",
       "      <td>0</td>\n",
       "      <td>0</td>\n",
       "      <td>0</td>\n",
       "      <td>9.429</td>\n",
       "    </tr>\n",
       "    <tr>\n",
       "      <th>4</th>\n",
       "      <td>Mamma's Pizza</td>\n",
       "      <td>11</td>\n",
       "      <td>M3B</td>\n",
       "      <td>2</td>\n",
       "      <td>1</td>\n",
       "      <td>0</td>\n",
       "      <td>6495.0</td>\n",
       "      <td>1070.0</td>\n",
       "      <td>3310.0</td>\n",
       "      <td>185.0</td>\n",
       "      <td>...</td>\n",
       "      <td>0</td>\n",
       "      <td>0</td>\n",
       "      <td>0</td>\n",
       "      <td>0</td>\n",
       "      <td>1</td>\n",
       "      <td>0</td>\n",
       "      <td>0</td>\n",
       "      <td>0</td>\n",
       "      <td>0</td>\n",
       "      <td>11.714</td>\n",
       "    </tr>\n",
       "  </tbody>\n",
       "</table>\n",
       "<p>5 rows × 148 columns</p>\n",
       "</div>"
      ],
      "text/plain": [
       "                    name  review_count  FSA  price_range  take_out  success  \\\n",
       "0          Bakery Gateau             8  M3B            2         1        1   \n",
       "1  Better than Yia Yia's             5  M3B            2         1        1   \n",
       "2    Spoon And Fork Plus           165  M3B            2         1        0   \n",
       "3  California Sandwiches            36  M3B            2         1        1   \n",
       "4          Mamma's Pizza            11  M3B            2         1        0   \n",
       "\n",
       "   Visible_Minority_Population_Pct  South_Asian_Pct  Chinese_Pct  Black_Pct  \\\n",
       "0                           6495.0           1070.0       3310.0      185.0   \n",
       "1                           6495.0           1070.0       3310.0      185.0   \n",
       "2                           6495.0           1070.0       3310.0      185.0   \n",
       "3                           6495.0           1070.0       3310.0      185.0   \n",
       "4                           6495.0           1070.0       3310.0      185.0   \n",
       "\n",
       "   ...  Japanese  Korean  Mexican  Misc  Non-Visible Minority Foods  \\\n",
       "0  ...         0       0        0     0                           0   \n",
       "1  ...         0       0        0     0                           0   \n",
       "2  ...         0       0        0     0                           0   \n",
       "3  ...         0       0        0     0                           0   \n",
       "4  ...         0       0        0     0                           1   \n",
       "\n",
       "   South East Asian  Specialty  Vegetarian/Vegan  West Asian  \\\n",
       "0                 0          0                 0           0   \n",
       "1                 0          0                 0           1   \n",
       "2                 1          0                 0           0   \n",
       "3                 0          0                 0           0   \n",
       "4                 0          0                 0           0   \n",
       "\n",
       "   avg_hours_in_week  \n",
       "0             11.000  \n",
       "1             12.000  \n",
       "2             10.786  \n",
       "3              9.429  \n",
       "4             11.714  \n",
       "\n",
       "[5 rows x 148 columns]"
      ]
     },
     "execution_count": 98,
     "metadata": {},
     "output_type": "execute_result"
    }
   ],
   "source": [
    "data.head()"
   ]
  },
  {
   "cell_type": "markdown",
   "metadata": {},
   "source": [
    "### Splitting data into features/target variables"
   ]
  },
  {
   "cell_type": "markdown",
   "metadata": {},
   "source": [
    "As mentioned before, `success` will be my target variable, and I will be fitting binary classification models."
   ]
  },
  {
   "cell_type": "code",
   "execution_count": 99,
   "metadata": {},
   "outputs": [],
   "source": [
    "# Keeping numeric columns only\n",
    "model_data = data.drop(columns = ['FSA', 'name'])\n",
    "\n",
    "# Defining feature and target variable\n",
    "X = model_data.drop(columns = ['success'])\n",
    "y = model_data['success']"
   ]
  },
  {
   "cell_type": "markdown",
   "metadata": {},
   "source": [
    "#### Removing correlated columns"
   ]
  },
  {
   "cell_type": "code",
   "execution_count": 114,
   "metadata": {},
   "outputs": [
    {
     "name": "stdout",
     "output_type": "stream",
     "text": [
      "{'Korean_Pct', 'Age:40-59', 'Age:60plus', 'Immigrants', 'NonImmigrants', 'Chinese_Pct', 'M2N', 'Commute:Walk_Bus_Bike', 'Commute:Drive', 'House_Owner_Pct', 'Population', 'Age:20-39', 'House_Renter_Pct'}\n"
     ]
    }
   ],
   "source": [
    "# Finding columns that are correlated with each other\n",
    "correlated_features = set()\n",
    "correlation_matrix = data.corr()\n",
    "\n",
    "\n",
    "for i in range(len(correlation_matrix .columns)):\n",
    "    for j in range(i):\n",
    "        # Threshhold for correlation: 0.8\n",
    "        if abs(correlation_matrix.iloc[i, j]) > 0.8:\n",
    "            colname = correlation_matrix.columns[i]\n",
    "            correlated_features.add(colname)\n",
    "            \n",
    "            \n",
    "print(correlated_features)"
   ]
  },
  {
   "cell_type": "code",
   "execution_count": 6,
   "metadata": {},
   "outputs": [],
   "source": [
    "# Removing these columns\n",
    "X.drop(labels = correlated_features, axis = 1, inplace = True)"
   ]
  },
  {
   "cell_type": "markdown",
   "metadata": {},
   "source": [
    "## Train/Test Split"
   ]
  },
  {
   "cell_type": "code",
   "execution_count": 8,
   "metadata": {},
   "outputs": [
    {
     "name": "stdout",
     "output_type": "stream",
     "text": [
      "Before Train/Test Split and Scaling:\n",
      "Shape of X: (7202, 136)\n",
      "Shape of y: (7202,)\n",
      "\n",
      "After Train/Test Split and Scaling\n",
      "Shape of X_train: (5041, 136)\n",
      "Shape of y_train: (5041,)\n",
      "\n",
      "Shape of X_test: (2161, 136)\n",
      "Shape of y_test: (2161,)\n"
     ]
    }
   ],
   "source": [
    "# Train/Test split\n",
    "from sklearn.model_selection import train_test_split\n",
    "\n",
    "\n",
    "\n",
    "print(\"Before Train/Test Split and Scaling:\")\n",
    "print(f\"Shape of X: {X.shape}\")\n",
    "print(f\"Shape of y: {y.shape}\")\n",
    "print(\"\")\n",
    "\n",
    "\n",
    "X_train, X_test, y_train, y_test = train_test_split(X, y, test_size=0.3, random_state = 1)\n",
    "\n",
    "\n",
    "print(\"After Train/Test Split and Scaling\")\n",
    "print(f\"Shape of X_train: {X_train.shape}\")\n",
    "print(f\"Shape of y_train: {y_train.shape}\")\n",
    "print(\"\")\n",
    "print(f\"Shape of X_test: {X_test.shape}\")\n",
    "print(f\"Shape of y_test: {y_test.shape}\")\n"
   ]
  },
  {
   "cell_type": "code",
   "execution_count": 9,
   "metadata": {},
   "outputs": [],
   "source": [
    "# Scaling\n",
    "\n",
    "from sklearn.preprocessing import StandardScaler\n",
    "\n",
    "\n",
    "scaler = StandardScaler()\n",
    "scaler.fit(X_train)\n",
    "X_train = scaler.transform(X_train)\n",
    "X_test = scaler.transform(X_test)"
   ]
  },
  {
   "cell_type": "markdown",
   "metadata": {},
   "source": [
    "## PCA"
   ]
  },
  {
   "cell_type": "markdown",
   "metadata": {},
   "source": [
    "We have a lot (136) features. Lets see if PCA will benefit us here."
   ]
  },
  {
   "cell_type": "code",
   "execution_count": 10,
   "metadata": {},
   "outputs": [
    {
     "data": {
      "image/png": "[encoded data removed]",
      "text/plain": [
       "<Figure size 432x288 with 1 Axes>"
      ]
     },
     "metadata": {
      "needs_background": "light"
     },
     "output_type": "display_data"
    }
   ],
   "source": [
    "# PCA\n",
    "from sklearn.preprocessing import StandardScaler\n",
    "from sklearn.decomposition import PCA, KernelPCA\n",
    "\n",
    "\n",
    "# All possible components\n",
    "my_pca = PCA(n_components=135)\n",
    "my_pca.fit(X_train)\n",
    "\n",
    "# transform data \n",
    "plot = my_pca.transform(X_train)\n",
    "\n",
    "# assign variable as explained variance\n",
    "expl_var = my_pca.explained_variance_ratio_\n",
    "\n",
    "# plotting explained variance\n",
    "plt.figure()\n",
    "\n",
    "plt.plot(range(0, 135),expl_var,marker='.')\n",
    "plt.xlabel('Number of PCs')\n",
    "plt.ylabel('Proportion of Variance Explained')\n",
    "\n",
    "plt.show()"
   ]
  },
  {
   "cell_type": "markdown",
   "metadata": {},
   "source": [
    "Dang. Even at 1 component, it only explains less than 5% of the variance. This is a bit concerning. It doesn't seem that PCA will benefit us here. That's okay, lets try to go ahead without it."
   ]
  },
  {
   "cell_type": "markdown",
   "metadata": {},
   "source": [
    "## Logistic Regression"
   ]
  },
  {
   "cell_type": "markdown",
   "metadata": {},
   "source": [
    "Lets do a simple logistic regression to see how it performs."
   ]
  },
  {
   "cell_type": "code",
   "execution_count": 22,
   "metadata": {},
   "outputs": [
    {
     "name": "stdout",
     "output_type": "stream",
     "text": [
      "Score on training set: 0.6461019638960523\n",
      "Score on test set: 0.6358167515039334\n"
     ]
    }
   ],
   "source": [
    "from sklearn.linear_model import LogisticRegression\n",
    "from sklearn.metrics import accuracy_score\n",
    "\n",
    "# Fit logistic regression model\n",
    "logistic_regression_model = LogisticRegression(max_iter = 10000)\n",
    "logistic_regression_model.fit(X_train, y_train)\n",
    "result = logistic_regression_model.fit(X_train, y_train)\n",
    "\n",
    "# Scoring\n",
    "train_prediction = logistic_regression_model.predict(X_train)\n",
    "test_prediction = logistic_regression_model.predict(X_test)\n",
    "accuracy_train = accuracy_score(train_prediction, y_train)\n",
    "accuracy_test = accuracy_score(test_prediction, y_test)\n",
    "\n",
    "print(f\"Score on training set: {accuracy_train}\")\n",
    "print(f\"Score on test set: {accuracy_test}\")"
   ]
  },
  {
   "cell_type": "markdown",
   "metadata": {},
   "source": [
    "## Decision Trees"
   ]
  },
  {
   "cell_type": "code",
   "execution_count": 35,
   "metadata": {},
   "outputs": [
    {
     "data": {
      "image/png": "[encoded data removed]",
      "text/plain": [
       "<Figure size 432x288 with 1 Axes>"
      ]
     },
     "metadata": {
      "needs_background": "light"
     },
     "output_type": "display_data"
    },
    {
     "name": "stdout",
     "output_type": "stream",
     "text": [
      "Best Accuracy Score: Max Depth of 6\n",
      "Training accuracy of 65.9% (max_depth = 6)\n",
      "Test accuracy of 61.27% (max_depth = 6)\n"
     ]
    }
   ],
   "source": [
    "from sklearn.tree import DecisionTreeClassifier\n",
    "\n",
    "# lists for scoring\n",
    "training_scores = []\n",
    "test_scores = []\n",
    "\n",
    "# finding optimal depth\n",
    "for i in range(1,15):\n",
    "    decision_tree = DecisionTreeClassifier(max_depth=i)\n",
    "    decision_tree.fit(X_train, y_train)\n",
    "    training_scores.append(decision_tree.score(X_train,y_train)*100)\n",
    "    test_scores.append(decision_tree.score(X_test,y_test)*100)\n",
    "\n",
    "# Plotting training and test scores against max_depth = i\n",
    "plt.figure()\n",
    "\n",
    "plt.plot(training_scores, label = 'Training Scores')\n",
    "plt.plot(test_scores, label = 'Test Scores')\n",
    "plt.xticks(range(1,15,1))\n",
    "plt.title('Relationship between training score and test score vs max_depth')\n",
    "plt.xlabel('Maximum Depth')\n",
    "plt.ylabel('Score')\n",
    "plt.legend()\n",
    "\n",
    "plt.show()\n",
    "\n",
    "# Print best test score:\n",
    "highest_score = max(test_scores)\n",
    "highest_index = test_scores.index(highest_score)\n",
    "\n",
    "print(f\"Best Accuracy Score: Max Depth of {highest_index + 1}\")\n",
    "print(f\"Training accuracy of {round(training_scores[highest_index], 2)}% (max_depth = {highest_index + 1})\")\n",
    "print(f\"Test accuracy of {round(test_scores[highest_index],2)}% (max_depth = {highest_index + 1})\")"
   ]
  },
  {
   "cell_type": "markdown",
   "metadata": {},
   "source": [
    "## Neural Networks"
   ]
  },
  {
   "cell_type": "code",
   "execution_count": 34,
   "metadata": {},
   "outputs": [],
   "source": [
    "import tensorflow as tf\n",
    "from tensorflow import keras\n",
    "from tensorflow.keras import layers"
   ]
  },
  {
   "cell_type": "markdown",
   "metadata": {},
   "source": [
    "I really wanted to play around with neural networks. My main goal is to try to beat my logistic regression. Firstly, I want to build a model with the number of features as my input layer. I will first start with a single hiddin layer, and then a single output neuron to see how it performs."
   ]
  },
  {
   "cell_type": "code",
   "execution_count": 39,
   "metadata": {},
   "outputs": [
    {
     "name": "stdout",
     "output_type": "stream",
     "text": [
      "Number of features: 136\n"
     ]
    }
   ],
   "source": [
    "# How many input layers?\n",
    "print(f\"Number of features: {X_train.shape[1]}\")"
   ]
  },
  {
   "cell_type": "code",
   "execution_count": 43,
   "metadata": {},
   "outputs": [
    {
     "data": {
      "image/png": "[encoded data removed]",
      "text/plain": [
       "<Figure size 432x288 with 1 Axes>"
      ]
     },
     "metadata": {
      "needs_background": "light"
     },
     "output_type": "display_data"
    },
    {
     "name": "stdout",
     "output_type": "stream",
     "text": [
      "Train Accuracy: 0.7009\n",
      "Test Accuracy: 0.6196\n"
     ]
    }
   ],
   "source": [
    "# Sequential Model\n",
    "nn_model = keras.Sequential()\n",
    "\n",
    "\n",
    "nn_model.add(layers.Dense(100, input_dim = 136, activation = 'relu'))\n",
    "\n",
    "\n",
    "# Output layer of one layer\n",
    "nn_model.add(layers.Dense(1, activation = 'sigmoid'))\n",
    "\n",
    "# Compile Model\n",
    "nn_model.compile(\n",
    "    optimizer=keras.optimizers.Adam(),  \n",
    "    loss=keras.losses.BinaryCrossentropy(),\n",
    "    metrics=[keras.metrics.BinaryAccuracy()])\n",
    "\n",
    "# Changing data to numpy arrays\n",
    "X_train_nn = np.asarray(X_train)\n",
    "y_train_nn = np.asarray(y_train)\n",
    "X_test_nn = np.asarray(X_test)\n",
    "y_test_nn = np.asarray(y_test)\n",
    "\n",
    "# Train model\n",
    "history = nn_model.fit(X_train_nn, y_train_nn, epochs=15, \\\n",
    "                       verbose=0, validation_data = (X_test_nn, y_test_nn))\n",
    "\n",
    "\n",
    "# Plot loss\n",
    "plt.plot(history.history['loss'])\n",
    "plt.plot(history.history['val_loss'])\n",
    "plt.title('Model Loss')\n",
    "plt.ylabel('Loss')\n",
    "plt.xlabel('Epoch')\n",
    "plt.legend(['Train', 'Validation'])\n",
    "plt.show()\n",
    "\n",
    "\n",
    "# Evaluate the network\n",
    "train_accuracy = history.history[\"binary_accuracy\"][-1]\n",
    "result = nn_model.evaluate(X_test_nn,y_test_nn, verbose=0)\n",
    "\n",
    "print(f\"Train Accuracy: {train_accuracy:.4f}\")\n",
    "print(f\"Test Accuracy: {result[1]:.4f}\") \n",
    "\n",
    "# Generate predictions\n",
    "predictions = nn_model.predict(X_test_nn)"
   ]
  },
  {
   "cell_type": "markdown",
   "metadata": {},
   "source": [
    "Not too bad. Lets try adding more layers."
   ]
  },
  {
   "cell_type": "code",
   "execution_count": 55,
   "metadata": {},
   "outputs": [
    {
     "data": {
      "image/png": "[encoded data removed]",
      "text/plain": [
       "<Figure size 432x288 with 1 Axes>"
      ]
     },
     "metadata": {
      "needs_background": "light"
     },
     "output_type": "display_data"
    },
    {
     "name": "stdout",
     "output_type": "stream",
     "text": [
      "Train Accuracy: 0.7604\n",
      "Test Accuracy: 0.6122\n"
     ]
    }
   ],
   "source": [
    "# Sequential Model\n",
    "nn_model = keras.Sequential()\n",
    "\n",
    "\n",
    "nn_model.add(layers.Dense(136, input_dim = 136, activation = 'relu'))\n",
    "nn_model.add(layers.Dense(100, activation = 'relu'))\n",
    "nn_model.add(layers.Dense(100, activation = 'relu'))\n",
    "nn_model.add(layers.Dense(100, activation = 'relu'))\n",
    "\n",
    "\n",
    "# Output layer of one layer\n",
    "nn_model.add(layers.Dense(1, activation = 'sigmoid'))\n",
    "\n",
    "# Compile Model\n",
    "nn_model.compile(\n",
    "    optimizer=keras.optimizers.Adam(),  \n",
    "    loss=keras.losses.BinaryCrossentropy(),\n",
    "    metrics=[keras.metrics.BinaryAccuracy()])\n",
    "\n",
    "# Changing data to numpy arrays\n",
    "X_train_nn = np.asarray(X_train)\n",
    "y_train_nn = np.asarray(y_train)\n",
    "X_test_nn = np.asarray(X_test)\n",
    "y_test_nn = np.asarray(y_test)\n",
    "\n",
    "# Train model\n",
    "history = nn_model.fit(X_train_nn, y_train_nn, epochs=15, \\\n",
    "                       verbose=0, validation_data = (X_test_nn, y_test_nn))\n",
    "\n",
    "\n",
    "# Plot loss\n",
    "plt.plot(history.history['loss'])\n",
    "plt.plot(history.history['val_loss'])\n",
    "plt.title('Model Loss')\n",
    "plt.ylabel('Loss')\n",
    "plt.xlabel('Epoch')\n",
    "plt.legend(['Train', 'Validation'])\n",
    "plt.show()\n",
    "\n",
    "\n",
    "# Evaluate the network\n",
    "train_accuracy = history.history[\"binary_accuracy\"][-1]\n",
    "result = nn_model.evaluate(X_test_nn,y_test_nn, verbose=0)\n",
    "\n",
    "print(f\"Train Accuracy: {train_accuracy:.4f}\")\n",
    "print(f\"Test Accuracy: {result[1]:.4f}\") \n",
    "\n",
    "# Generate predictions\n",
    "predictions = nn_model.predict(X_test_nn)"
   ]
  },
  {
   "cell_type": "markdown",
   "metadata": {},
   "source": [
    "As expected, it's overfitting too much. Lets fix this by adding a regularizer. "
   ]
  },
  {
   "cell_type": "code",
   "execution_count": 56,
   "metadata": {},
   "outputs": [
    {
     "data": {
      "image/png": "[encoded data removed]",
      "text/plain": [
       "<Figure size 432x288 with 1 Axes>"
      ]
     },
     "metadata": {
      "needs_background": "light"
     },
     "output_type": "display_data"
    },
    {
     "name": "stdout",
     "output_type": "stream",
     "text": [
      "Train Accuracy: 0.6818\n",
      "Test Accuracy: 0.6280\n"
     ]
    }
   ],
   "source": [
    "# Sequential Model\n",
    "nn_model = keras.Sequential()\n",
    "\n",
    "regularizer = keras.regularizers.l2(0.005)\n",
    "\n",
    "nn_model.add(layers.Dense(136, input_dim = 136, activation = 'relu', kernel_regularizer=regularizer))\n",
    "nn_model.add(layers.Dense(100, activation = 'relu', kernel_regularizer=regularizer))\n",
    "nn_model.add(layers.Dense(100, activation = 'relu', kernel_regularizer=regularizer))\n",
    "nn_model.add(layers.Dense(100, activation = 'relu', kernel_regularizer=regularizer))\n",
    "nn_model.add(layers.Dense(50, activation = 'relu', kernel_regularizer=regularizer))\n",
    "\n",
    "# Output layer of one layer\n",
    "nn_model.add(layers.Dense(1, activation = 'sigmoid'))\n",
    "\n",
    "# Compile Model\n",
    "nn_model.compile(\n",
    "    optimizer=keras.optimizers.Adam(),  \n",
    "    loss=keras.losses.BinaryCrossentropy(),\n",
    "    metrics=[keras.metrics.BinaryAccuracy()])\n",
    "\n",
    "# Changing data to numpy arrays\n",
    "X_train_nn = np.asarray(X_train)\n",
    "y_train_nn = np.asarray(y_train)\n",
    "X_test_nn = np.asarray(X_test)\n",
    "y_test_nn = np.asarray(y_test)\n",
    "\n",
    "# Train model\n",
    "history = nn_model.fit(X_train_nn, y_train_nn, epochs=15, \\\n",
    "                       verbose=0, validation_data = (X_test_nn, y_test_nn))\n",
    "\n",
    "\n",
    "# Plot loss\n",
    "plt.plot(history.history['loss'])\n",
    "plt.plot(history.history['val_loss'])\n",
    "plt.title('Model Loss')\n",
    "plt.ylabel('Loss')\n",
    "plt.xlabel('Epoch')\n",
    "plt.legend(['Train', 'Validation'])\n",
    "plt.show()\n",
    "\n",
    "\n",
    "# Evaluate the network\n",
    "train_accuracy = history.history[\"binary_accuracy\"][-1]\n",
    "result = nn_model.evaluate(X_test_nn,y_test_nn, verbose=0)\n",
    "\n",
    "print(f\"Train Accuracy: {train_accuracy:.4f}\")\n",
    "print(f\"Test Accuracy: {result[1]:.4f}\") \n",
    "\n",
    "# Generate predictions\n",
    "predictions = nn_model.predict(X_test_nn)"
   ]
  },
  {
   "cell_type": "markdown",
   "metadata": {},
   "source": [
    "How about dropouts? Will that help?"
   ]
  },
  {
   "cell_type": "code",
   "execution_count": 54,
   "metadata": {},
   "outputs": [
    {
     "name": "stdout",
     "output_type": "stream",
     "text": [
      "Train on 5041 samples, validate on 2161 samples\n",
      "Epoch 1/25\n",
      "5041/5041 [==============================] - 2s 496us/sample - loss: 0.6932 - binary_accuracy: 0.5037 - val_loss: 0.6931 - val_binary_accuracy: 0.5137\n",
      "Epoch 2/25\n",
      "5041/5041 [==============================] - 1s 231us/sample - loss: 0.6920 - binary_accuracy: 0.5142 - val_loss: 0.6862 - val_binary_accuracy: 0.5613\n",
      "Epoch 3/25\n",
      "5041/5041 [==============================] - 1s 238us/sample - loss: 0.6748 - binary_accuracy: 0.5826 - val_loss: 0.6671 - val_binary_accuracy: 0.6071\n",
      "Epoch 4/25\n",
      "5041/5041 [==============================] - 1s 240us/sample - loss: 0.6535 - binary_accuracy: 0.6154 - val_loss: 0.6692 - val_binary_accuracy: 0.6108\n",
      "Epoch 5/25\n",
      "5041/5041 [==============================] - 1s 233us/sample - loss: 0.6440 - binary_accuracy: 0.6308 - val_loss: 0.6673 - val_binary_accuracy: 0.6229\n",
      "Epoch 6/25\n",
      "5041/5041 [==============================] - 1s 237us/sample - loss: 0.6320 - binary_accuracy: 0.6427 - val_loss: 0.6661 - val_binary_accuracy: 0.6210\n",
      "Epoch 7/25\n",
      "5041/5041 [==============================] - 1s 257us/sample - loss: 0.6256 - binary_accuracy: 0.6534 - val_loss: 0.6679 - val_binary_accuracy: 0.6224\n",
      "Epoch 8/25\n",
      "5041/5041 [==============================] - 1s 245us/sample - loss: 0.6190 - binary_accuracy: 0.6604 - val_loss: 0.6755 - val_binary_accuracy: 0.6358\n",
      "Epoch 9/25\n",
      "5041/5041 [==============================] - 1s 268us/sample - loss: 0.6179 - binary_accuracy: 0.6610 - val_loss: 0.6624 - val_binary_accuracy: 0.6205\n",
      "Epoch 10/25\n",
      "5041/5041 [==============================] - 1s 254us/sample - loss: 0.6116 - binary_accuracy: 0.6701 - val_loss: 0.6737 - val_binary_accuracy: 0.6196\n",
      "Epoch 11/25\n",
      "5041/5041 [==============================] - 1s 276us/sample - loss: 0.6051 - binary_accuracy: 0.6713 - val_loss: 0.6753 - val_binary_accuracy: 0.6215\n",
      "Epoch 12/25\n",
      "5041/5041 [==============================] - 1s 257us/sample - loss: 0.5967 - binary_accuracy: 0.6820 - val_loss: 0.6818 - val_binary_accuracy: 0.6358\n",
      "Epoch 13/25\n",
      "5041/5041 [==============================] - 1s 257us/sample - loss: 0.5890 - binary_accuracy: 0.6824 - val_loss: 0.6915 - val_binary_accuracy: 0.6280\n",
      "Epoch 14/25\n",
      "5041/5041 [==============================] - 1s 271us/sample - loss: 0.5916 - binary_accuracy: 0.6874 - val_loss: 0.6854 - val_binary_accuracy: 0.6317\n",
      "Epoch 15/25\n",
      "5041/5041 [==============================] - 1s 286us/sample - loss: 0.5842 - binary_accuracy: 0.6872 - val_loss: 0.6942 - val_binary_accuracy: 0.6266\n",
      "Epoch 16/25\n",
      "5041/5041 [==============================] - 1s 273us/sample - loss: 0.5786 - binary_accuracy: 0.6913 - val_loss: 0.7085 - val_binary_accuracy: 0.6298\n",
      "Epoch 17/25\n",
      "5041/5041 [==============================] - 1s 265us/sample - loss: 0.5718 - binary_accuracy: 0.6901 - val_loss: 0.6959 - val_binary_accuracy: 0.6224\n",
      "Epoch 18/25\n",
      "5041/5041 [==============================] - 1s 258us/sample - loss: 0.5630 - binary_accuracy: 0.7054 - val_loss: 0.7139 - val_binary_accuracy: 0.6256\n",
      "Epoch 19/25\n",
      "5041/5041 [==============================] - 1s 275us/sample - loss: 0.5664 - binary_accuracy: 0.7012 - val_loss: 0.7213 - val_binary_accuracy: 0.6219\n",
      "Epoch 20/25\n",
      "5041/5041 [==============================] - 1s 262us/sample - loss: 0.5583 - binary_accuracy: 0.7080 - val_loss: 0.7232 - val_binary_accuracy: 0.6219\n",
      "Epoch 21/25\n",
      "5041/5041 [==============================] - 1s 284us/sample - loss: 0.5529 - binary_accuracy: 0.7084 - val_loss: 0.7268 - val_binary_accuracy: 0.6201\n",
      "Epoch 22/25\n",
      "5041/5041 [==============================] - 1s 270us/sample - loss: 0.5481 - binary_accuracy: 0.7137 - val_loss: 0.7154 - val_binary_accuracy: 0.6215\n",
      "Epoch 23/25\n",
      "5041/5041 [==============================] - 1s 283us/sample - loss: 0.5471 - binary_accuracy: 0.7106 - val_loss: 0.7155 - val_binary_accuracy: 0.6215\n",
      "Epoch 24/25\n",
      "5041/5041 [==============================] - 1s 273us/sample - loss: 0.5464 - binary_accuracy: 0.7161 - val_loss: 0.6903 - val_binary_accuracy: 0.6233\n",
      "Epoch 25/25\n",
      "5041/5041 [==============================] - 1s 287us/sample - loss: 0.5298 - binary_accuracy: 0.7209 - val_loss: 0.7348 - val_binary_accuracy: 0.6229\n"
     ]
    },
    {
     "data": {
      "image/png": "[encoded data removed]",
      "text/plain": [
       "<Figure size 432x288 with 1 Axes>"
      ]
     },
     "metadata": {
      "needs_background": "light"
     },
     "output_type": "display_data"
    },
    {
     "name": "stdout",
     "output_type": "stream",
     "text": [
      "Train Accuracy: 0.7209\n",
      "Test Accuracy: 0.6229\n"
     ]
    }
   ],
   "source": [
    "\n",
    "# Sequential Model\n",
    "nn_model = keras.Sequential()\n",
    "\n",
    "\n",
    "nn_model.add(layers.Dense(136, input_dim = 136, activation = 'relu'))\n",
    "nn_model.add(layers.Dropout(0.2)) \n",
    "nn_model.add(layers.Dense(100, activation = 'relu'))\n",
    "nn_model.add(layers.Dropout(0.2)) \n",
    "nn_model.add(layers.Dense(100, activation = 'relu'))\n",
    "nn_model.add(layers.Dropout(0.2)) \n",
    "nn_model.add(layers.Dense(100, activation = 'relu'))\n",
    "nn_model.add(layers.Dropout(0.2)) \n",
    "nn_model.add(layers.Dense(50, activation = 'relu'))\n",
    "nn_model.add(layers.Dropout(0.2)) # \n",
    "nn_model.add(layers.Dense(2, activation = 'relu'))\n",
    "\n",
    "# Output layer of one layer\n",
    "nn_model.add(layers.Dense(1, activation = 'sigmoid'))\n",
    "\n",
    "# Compile Model\n",
    "nn_model.compile(\n",
    "    # Optimizer\n",
    "    optimizer=keras.optimizers.Adam(),  \n",
    "    # Cross entropy loss function for classificaiton model\n",
    "    loss=keras.losses.BinaryCrossentropy(),\n",
    "    # Metric used to evaluate model\n",
    "    metrics=[keras.metrics.BinaryAccuracy()]\n",
    ")\n",
    "\n",
    "# Changing data to numpy arrays\n",
    "\n",
    "X_train_nn = np.asarray(X_train)\n",
    "y_train_nn = np.asarray(y_train)\n",
    "X_test_nn = np.asarray(X_test)\n",
    "y_test_nn = np.asarray(y_test)\n",
    "\n",
    "# train model\n",
    "history = nn_model.fit(X_train_nn, y_train_nn, epochs=25, \\\n",
    "                       verbose=1, validation_data = (X_test_nn, y_test_nn))\n",
    "\n",
    "\n",
    "# Plot loss\n",
    "plt.plot(history.history['loss'])\n",
    "plt.plot(history.history['val_loss'])\n",
    "plt.title('Model Loss')\n",
    "plt.ylabel('Loss')\n",
    "plt.xlabel('Epoch')\n",
    "plt.legend(['Train', 'Validation'])\n",
    "plt.show()\n",
    "\n",
    "\n",
    "# Evaluate the network\n",
    "train_accuracy = history.history[\"binary_accuracy\"][-1]\n",
    "result = nn_model.evaluate(X_test_nn,y_test_nn, verbose=0)\n",
    "\n",
    "print(f\"Train Accuracy: {train_accuracy:.4f}\")\n",
    "print(f\"Test Accuracy: {result[1]:.4f}\") \n",
    "\n",
    "# Generate predictions\n",
    "predictions = nn_model.predict(X_test_nn)"
   ]
  },
  {
   "cell_type": "markdown",
   "metadata": {},
   "source": [
    "This notebook doesn't show it, but I've tried far too many neural network structures, more than I'd like to admit. Lets move on."
   ]
  },
  {
   "cell_type": "markdown",
   "metadata": {},
   "source": [
    "## Adaptive Boosting"
   ]
  },
  {
   "cell_type": "code",
   "execution_count": 57,
   "metadata": {},
   "outputs": [
    {
     "name": "stdout",
     "output_type": "stream",
     "text": [
      "Scores:\n",
      "AdaBoost Training score: 0.6474905772664153\n",
      "AdaBoost Testing score: 0.6325775104118464\n"
     ]
    }
   ],
   "source": [
    "from sklearn.ensemble import RandomForestClassifier\n",
    "from sklearn.ensemble import AdaBoostClassifier\n",
    "from sklearn.tree import DecisionTreeClassifier\n",
    "\n",
    "\n",
    "AB_model = AdaBoostClassifier(n_estimators = 50)\n",
    "\n",
    "\n",
    "AB_model.fit(X_train, y_train)\n",
    "\n",
    "\n",
    "print(\"Scores:\")\n",
    "print(f\"AdaBoost Training score: {AB_model.score(X_train,y_train)}\")\n",
    "print(f\"AdaBoost Testing score: {AB_model.score(X_test,y_test)}\")\n"
   ]
  },
  {
   "cell_type": "markdown",
   "metadata": {},
   "source": [
    "## Extreme Gradient Boosting"
   ]
  },
  {
   "cell_type": "code",
   "execution_count": 59,
   "metadata": {},
   "outputs": [
    {
     "name": "stdout",
     "output_type": "stream",
     "text": [
      "Scores:\n",
      "XGBoost Training score: 0.7272366593929775\n",
      "XGBoost Testing score: 0.6422952336881074\n"
     ]
    }
   ],
   "source": [
    "from xgboost import XGBClassifier\n",
    "\n",
    "XGB_model = XGBClassifier(max_depth = 3, min_child_weight = 0.9,\n",
    "                         learning_rate = 0.3)\n",
    "XGB_model.fit(X_train, y_train)\n",
    "\n",
    "\n",
    "print(\"Scores:\")\n",
    "print(f\"XGBoost Training score: {XGB_model.score(X_train,y_train)}\")\n",
    "print(f\"XGBoost Testing score: {XGB_model.score(X_test,y_test)}\")\n",
    "\n"
   ]
  },
  {
   "cell_type": "markdown",
   "metadata": {},
   "source": [
    "## Gradient Boosting"
   ]
  },
  {
   "cell_type": "code",
   "execution_count": null,
   "metadata": {},
   "outputs": [],
   "source": [
    "from sklearn.ensemble import GradientBoostingClassifier\n",
    "\n",
    "\n",
    "grad_boost_model = GradientBoostingClassifier()\n",
    "grad_boost_model.fit(X_train, y_train)\n",
    "\n",
    "print(\"Scores:\")\n",
    "print(f\"Gradient Boosting Training score: {grad_boost_model.score(X_train,y_train)}\")\n",
    "print(f\"Gradient Boosting Testing score: {grad_boost_model.score(X_test,y_test)}\")"
   ]
  },
  {
   "cell_type": "markdown",
   "metadata": {},
   "source": [
    "Woah! Boosting seems to really work with this dataset. I'm going to choose to move on with Gradient Boosting, and do some hyper parameter tuning."
   ]
  },
  {
   "cell_type": "markdown",
   "metadata": {},
   "source": [
    "#### Tuning  `learning_rate`"
   ]
  },
  {
   "cell_type": "code",
   "execution_count": 61,
   "metadata": {},
   "outputs": [
    {
     "data": {
      "image/png": "[encoded data removed]",
      "text/plain": [
       "<Figure size 432x288 with 1 Axes>"
      ]
     },
     "metadata": {
      "needs_background": "light"
     },
     "output_type": "display_data"
    }
   ],
   "source": [
    "from sklearn.metrics import roc_curve, auc\n",
    "from matplotlib.legend_handler import HandlerLine2D\n",
    "\n",
    "learning_rates = [1, 0.5, 0.25, 0.1, 0.05, 0.01]\n",
    "train_results = []\n",
    "test_results = []\n",
    "\n",
    "\n",
    "for eta in learning_rates:\n",
    "   model = GradientBoostingClassifier(learning_rate=eta)\n",
    "   model.fit(X_train, y_train)\n",
    "   train_pred = model.predict(X_train)\n",
    "   false_positive_rate, true_positive_rate, thresholds = roc_curve(y_train, train_pred)\n",
    "   roc_auc = auc(false_positive_rate, true_positive_rate)\n",
    "   train_results.append(roc_auc)\n",
    "   y_pred = model.predict(X_test)\n",
    "   false_positive_rate, true_positive_rate, thresholds = roc_curve(y_test, y_pred)\n",
    "   roc_auc = auc(false_positive_rate, true_positive_rate)\n",
    "   test_results.append(roc_auc)\n",
    "    \n",
    "# Plot AUC curves    \n",
    "plt.figure()    \n",
    "\n",
    "line1, = plt.plot(learning_rates, train_results, '#2980B9', label='Train AUC')\n",
    "line2, = plt.plot(learning_rates, test_results, '#DC4238', label='Test AUC')\n",
    "plt.legend(handler_map={line1: HandlerLine2D(numpoints=2)})\n",
    "plt.ylabel('AUC score')\n",
    "plt.xlabel('learning rate')\n",
    "\n",
    "plt.show()"
   ]
  },
  {
   "cell_type": "markdown",
   "metadata": {},
   "source": [
    "#### Tuning `n_estimators`"
   ]
  },
  {
   "cell_type": "code",
   "execution_count": 62,
   "metadata": {},
   "outputs": [
    {
     "data": {
      "image/png": "[encoded data removed]",
      "text/plain": [
       "<Figure size 432x288 with 1 Axes>"
      ]
     },
     "metadata": {
      "needs_background": "light"
     },
     "output_type": "display_data"
    }
   ],
   "source": [
    "n_estimators = [1, 2, 4, 8, 16, 32, 64, 100, 200]\n",
    "train_results = []\n",
    "test_results = []\n",
    "\n",
    "for estimator in n_estimators:\n",
    "   model = GradientBoostingClassifier(n_estimators=estimator)\n",
    "   model.fit(X_train, y_train)\n",
    "   train_pred = model.predict(X_train)\n",
    "   false_positive_rate, true_positive_rate, thresholds = roc_curve(y_train, train_pred)\n",
    "   roc_auc = auc(false_positive_rate, true_positive_rate)\n",
    "   train_results.append(roc_auc)\n",
    "   y_pred = model.predict(X_test)\n",
    "   false_positive_rate, true_positive_rate, thresholds = roc_curve(y_test, y_pred)\n",
    "   roc_auc = auc(false_positive_rate, true_positive_rate)\n",
    "   test_results.append(roc_auc)\n",
    "\n",
    "# Plot AUC Curves\n",
    "plt.figure()\n",
    "\n",
    "line1, = plt.plot(n_estimators, train_results, '#2980B9', label='Train AUC')\n",
    "line2, = plt.plot(n_estimators, test_results, '#DC4238', label='Test AUC')\n",
    "plt.legend(handler_map={line1: HandlerLine2D(numpoints=2)})\n",
    "plt.ylabel('AUC score')\n",
    "plt.xlabel('n_estimators')\n",
    "\n",
    "plt.show()"
   ]
  },
  {
   "cell_type": "markdown",
   "metadata": {},
   "source": [
    "#### Tuning `max_depth`"
   ]
  },
  {
   "cell_type": "code",
   "execution_count": 64,
   "metadata": {},
   "outputs": [
    {
     "data": {
      "image/png": "[encoded data removed]",
      "text/plain": [
       "<Figure size 432x288 with 1 Axes>"
      ]
     },
     "metadata": {
      "needs_background": "light"
     },
     "output_type": "display_data"
    }
   ],
   "source": [
    "max_depths = np.linspace(1, 10, 10, endpoint=True)\n",
    "train_results = []\n",
    "test_results = []\n",
    "\n",
    "for max_depth in max_depths:\n",
    "   model = GradientBoostingClassifier(max_depth=max_depth)\n",
    "   model.fit(X_train, y_train)\n",
    "   train_pred = model.predict(X_train)\n",
    "   false_positive_rate, true_positive_rate, thresholds = roc_curve(y_train, train_pred)\n",
    "   roc_auc = auc(false_positive_rate, true_positive_rate)\n",
    "   train_results.append(roc_auc)\n",
    "   y_pred = model.predict(X_test)\n",
    "   false_positive_rate, true_positive_rate, thresholds = roc_curve(y_test, y_pred)\n",
    "   roc_auc = auc(false_positive_rate, true_positive_rate)\n",
    "   test_results.append(roc_auc)\n",
    "\n",
    "# Plotting AUC curves\n",
    "plt.figure()\n",
    "\n",
    "line1, = plt.plot(max_depths, train_results, '#2980B9', label='Train AUC')\n",
    "line2, = plt.plot(max_depths, test_results, '#DC4238', label='Test AUC')\n",
    "plt.legend(handler_map={line1: HandlerLine2D(numpoints=2)})\n",
    "plt.ylabel('AUC score')\n",
    "plt.xlabel('Tree depth')\n",
    "\n",
    "plt.show()"
   ]
  },
  {
   "cell_type": "markdown",
   "metadata": {},
   "source": [
    "#### Tuning `min_samples_splits`"
   ]
  },
  {
   "cell_type": "code",
   "execution_count": 65,
   "metadata": {},
   "outputs": [
    {
     "data": {
      "image/png": "[encoded data removed]",
      "text/plain": [
       "<Figure size 432x288 with 1 Axes>"
      ]
     },
     "metadata": {
      "needs_background": "light"
     },
     "output_type": "display_data"
    }
   ],
   "source": [
    "min_samples_splits = np.linspace(0.1, 1.0, 10, endpoint=True)\n",
    "train_results = []\n",
    "test_results = []\n",
    "\n",
    "for min_samples_split in min_samples_splits:\n",
    "   model = GradientBoostingClassifier(min_samples_split=min_samples_split)\n",
    "   model.fit(X_train, y_train)\n",
    "   train_pred = model.predict(X_train)\n",
    "   false_positive_rate, true_positive_rate, thresholds = roc_curve(y_train, train_pred)\n",
    "   roc_auc = auc(false_positive_rate, true_positive_rate)\n",
    "   train_results.append(roc_auc)\n",
    "   y_pred = model.predict(X_test)\n",
    "   false_positive_rate, true_positive_rate, thresholds = roc_curve(y_test, y_pred)\n",
    "   roc_auc = auc(false_positive_rate, true_positive_rate)\n",
    "   test_results.append(roc_auc)\n",
    "\n",
    "# Plotting AUC curves\n",
    "plt.figure()\n",
    "\n",
    "line1, = plt.plot(min_samples_splits, train_results, '#2980B9', label='Train AUC')\n",
    "line2, = plt.plot(min_samples_splits, test_results, '#DC4238', label='Test AUC')\n",
    "plt.legend(handler_map={line1: HandlerLine2D(numpoints=2)})\n",
    "plt.ylabel('AUC score')\n",
    "plt.xlabel('Minimum samples split')\n",
    "\n",
    "plt.show()"
   ]
  },
  {
   "cell_type": "markdown",
   "metadata": {},
   "source": [
    "#### Tuning `min_samples_leaf`"
   ]
  },
  {
   "cell_type": "code",
   "execution_count": 66,
   "metadata": {},
   "outputs": [
    {
     "data": {
      "image/png": "[encoded data removed]",
      "text/plain": [
       "<Figure size 432x288 with 1 Axes>"
      ]
     },
     "metadata": {
      "needs_background": "light"
     },
     "output_type": "display_data"
    }
   ],
   "source": [
    "min_samples_leafs = np.linspace(0.1, 0.5, 5, endpoint=True)\n",
    "train_results = []\n",
    "test_results = []\n",
    "\n",
    "for min_samples_leaf in min_samples_leafs:\n",
    "   model = GradientBoostingClassifier(min_samples_leaf=min_samples_leaf)\n",
    "   model.fit(X_train, y_train)\n",
    "   train_pred = model.predict(X_train)\n",
    "   false_positive_rate, true_positive_rate, thresholds = roc_curve(y_train, train_pred)\n",
    "   roc_auc = auc(false_positive_rate, true_positive_rate)\n",
    "   train_results.append(roc_auc)\n",
    "   y_pred = model.predict(X_test)\n",
    "   false_positive_rate, true_positive_rate, thresholds = roc_curve(y_test, y_pred)\n",
    "   roc_auc = auc(false_positive_rate, true_positive_rate)\n",
    "   test_results.append(roc_auc)\n",
    "    \n",
    "# Plotting AUC curves\n",
    "plt.figure()\n",
    "\n",
    "line1, = plt.plot(min_samples_leafs, train_results, '#2980B9', label='Train AUC')\n",
    "line2, = plt.plot(min_samples_leafs, test_results, '#DC4238', label='Test AUC')\n",
    "plt.legend(handler_map={line1: HandlerLine2D(numpoints=2)})\n",
    "plt.ylabel('AUC score')\n",
    "plt.xlabel('min samples leaf')\n",
    "\n",
    "plt.show()"
   ]
  },
  {
   "cell_type": "markdown",
   "metadata": {},
   "source": [
    "#### Tuning `max_features`"
   ]
  },
  {
   "cell_type": "code",
   "execution_count": 88,
   "metadata": {},
   "outputs": [
    {
     "data": {
      "image/png": "[encoded data removed]",
      "text/plain": [
       "<Figure size 432x288 with 1 Axes>"
      ]
     },
     "metadata": {
      "needs_background": "light"
     },
     "output_type": "display_data"
    }
   ],
   "source": [
    "max_features = list(range(1,136))\n",
    "train_results = []\n",
    "test_results = []\n",
    "\n",
    "for max_feature in max_features:\n",
    "   model = GradientBoostingClassifier(max_features=max_feature)\n",
    "   model.fit(X_train, y_train)\n",
    "   train_pred = model.predict(X_train)\n",
    "   false_positive_rate, true_positive_rate, thresholds = roc_curve(y_train, train_pred)\n",
    "   roc_auc = auc(false_positive_rate, true_positive_rate)\n",
    "   train_results.append(roc_auc)\n",
    "   y_pred = model.predict(X_test)\n",
    "   false_positive_rate, true_positive_rate, thresholds = roc_curve(y_test, y_pred)\n",
    "   roc_auc = auc(false_positive_rate, true_positive_rate)\n",
    "   test_results.append(roc_auc)\n",
    "    \n",
    "# Plot AUC Curves\n",
    "plt.figure()\n",
    "\n",
    "line1, = plt.plot(max_features, train_results, '#2980B9', label='Train AUC')\n",
    "line2, = plt.plot(max_features, test_results, '#DC4238', label='Test AUC')\n",
    "plt.legend(handler_map={line1: HandlerLine2D(numpoints=2)})\n",
    "plt.ylabel('AUC score')\n",
    "plt.xlabel('max features')\n",
    "\n",
    "plt.show()"
   ]
  },
  {
   "cell_type": "markdown",
   "metadata": {},
   "source": [
    "What did we learn? The following parameters should optimize our model:\n",
    "\n",
    "- `learning_rate` = 0.1\n",
    "- `n_estimators` = 150\n",
    "- `min_samples_leaf` = 0.01\n",
    "- `max_features` = 30\n",
    "- `max_depth` = 3"
   ]
  },
  {
   "cell_type": "markdown",
   "metadata": {},
   "source": [
    "## Making Predictions"
   ]
  },
  {
   "cell_type": "markdown",
   "metadata": {},
   "source": [
    "To make this model useful, I want to create a few data points and predict it. Lets pull a few datapoints from the data and make it what I want."
   ]
  },
  {
   "cell_type": "code",
   "execution_count": null,
   "metadata": {},
   "outputs": [],
   "source": [
    "# IN PROGRESS."
   ]
  },
  {
   "cell_type": "code",
   "execution_count": null,
   "metadata": {},
   "outputs": [],
   "source": []
  },
  {
   "cell_type": "code",
   "execution_count": null,
   "metadata": {},
   "outputs": [],
   "source": []
  }
 ],
 "metadata": {
  "kernelspec": {
   "display_name": "cp_restproject",
   "language": "python",
   "name": "cp_restproject"
  },
  "language_info": {
   "codemirror_mode": {
    "name": "ipython",
    "version": 3
   },
   "file_extension": ".py",
   "mimetype": "text/x-python",
   "name": "python",
   "nbconvert_exporter": "python",
   "pygments_lexer": "ipython3",
   "version": "3.7.7"
  },
  "toc": {
   "base_numbering": 1,
   "nav_menu": {},
   "number_sections": false,
   "sideBar": true,
   "skip_h1_title": false,
   "title_cell": "Table of Contents",
   "title_sidebar": "Contents",
   "toc_cell": true,
   "toc_position": {
    "height": "calc(100% - 180px)",
    "left": "10px",
    "top": "150px",
    "width": "307.2px"
   },
   "toc_section_display": true,
   "toc_window_display": true
  },
  "varInspector": {
   "cols": {
    "lenName": 16,
    "lenType": 16,
    "lenVar": 40
   },
   "kernels_config": {
    "python": {
     "delete_cmd_postfix": "",
     "delete_cmd_prefix": "del ",
     "library": "var_list.py",
     "varRefreshCmd": "print(var_dic_list())"
    },
    "r": {
     "delete_cmd_postfix": ") ",
     "delete_cmd_prefix": "rm(",
     "library": "var_list.r",
     "varRefreshCmd": "cat(var_dic_list()) "
    }
   },
   "types_to_exclude": [
    "module",
    "function",
    "builtin_function_or_method",
    "instance",
    "_Feature"
   ],
   "window_display": false
  }
 },
 "nbformat": 4,
 "nbformat_minor": 4
}
