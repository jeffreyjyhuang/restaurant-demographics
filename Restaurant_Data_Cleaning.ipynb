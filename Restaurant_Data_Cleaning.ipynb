{
 "cells": [
  {
   "cell_type": "markdown",
   "metadata": {
    "toc": true
   },
   "source": [
    "<h1>Table of Contents<span class=\"tocSkip\"></span></h1>\n",
    "<div class=\"toc\"><ul class=\"toc-item\"><li><span><a href=\"#Introduction\" data-toc-modified-id=\"Introduction-1\">Introduction</a></span></li><li><span><a href=\"#Data-Import\" data-toc-modified-id=\"Data-Import-2\">Data Import</a></span></li><li><span><a href=\"#Cleaning-postal_code\" data-toc-modified-id=\"Cleaning-postal_code-3\">Cleaning <code>postal_code</code></a></span><ul class=\"toc-item\"><li><ul class=\"toc-item\"><li><span><a href=\"#Removing-missing-values-from-column\" data-toc-modified-id=\"Removing-missing-values-from-column-3.0.1\">Removing missing values from column</a></span></li><li><span><a href=\"#Removing-any-incorrectly-classified-postal-codes\" data-toc-modified-id=\"Removing-any-incorrectly-classified-postal-codes-3.0.2\">Removing any incorrectly classified postal codes</a></span></li><li><span><a href=\"#Converting-all-postal-codes-into-FSA-values\" data-toc-modified-id=\"Converting-all-postal-codes-into-FSA-values-3.0.3\">Converting all postal codes into FSA values</a></span></li></ul></li></ul></li><li><span><a href=\"#Cleaning-hours\" data-toc-modified-id=\"Cleaning-hours-4\">Cleaning <code>hours</code></a></span><ul class=\"toc-item\"><li><ul class=\"toc-item\"><li><span><a href=\"#Dropping-any-rows-that-have-missing-values-in-column\" data-toc-modified-id=\"Dropping-any-rows-that-have-missing-values-in-column-4.0.1\">Dropping any rows that have missing values in column</a></span></li><li><span><a href=\"#Flattening-dictionaries-in-column\" data-toc-modified-id=\"Flattening-dictionaries-in-column-4.0.2\">Flattening dictionaries in column</a></span></li><li><span><a href=\"#Adding-up-total-number-of-hours-open-a-day\" data-toc-modified-id=\"Adding-up-total-number-of-hours-open-a-day-4.0.3\">Adding up total number of hours open a day</a></span></li><li><span><a href=\"#Adding-back-to\" data-toc-modified-id=\"Adding-back-to-4.0.4\">Adding back to</a></span></li></ul></li></ul></li><li><span><a href=\"#Cleaning-attributes\" data-toc-modified-id=\"Cleaning-attributes-5\">Cleaning <code>attributes</code></a></span><ul class=\"toc-item\"><li><ul class=\"toc-item\"><li><span><a href=\"#Removing-missing-values\" data-toc-modified-id=\"Removing-missing-values-5.0.1\">Removing missing values</a></span></li><li><span><a href=\"#Cleaning-RestaurantsPriceRange\" data-toc-modified-id=\"Cleaning-RestaurantsPriceRange-5.0.2\">Cleaning <code>RestaurantsPriceRange</code></a></span></li><li><span><a href=\"#Cleaning-RestaurantsTakeOut\" data-toc-modified-id=\"Cleaning-RestaurantsTakeOut-5.0.3\">Cleaning <code>RestaurantsTakeOut</code></a></span></li></ul></li></ul></li><li><span><a href=\"#Cleaning-Categories-Column\" data-toc-modified-id=\"Cleaning-Categories-Column-6\">Cleaning Categories Column</a></span><ul class=\"toc-item\"><li><span><a href=\"#Looking-at-the-stock-classifications\" data-toc-modified-id=\"Looking-at-the-stock-classifications-6.1\">Looking at the stock classifications</a></span></li><li><span><a href=\"#Creating-our-own-classifications\" data-toc-modified-id=\"Creating-our-own-classifications-6.2\">Creating our own classifications</a></span></li><li><span><a href=\"#Converting-is_open-and-stars-into-dummy-variable\" data-toc-modified-id=\"Converting-is_open-and-stars-into-dummy-variable-6.3\">Converting <code>is_open</code> and <code>stars</code> into dummy variable</a></span></li></ul></li><li><span><a href=\"#Data-After-Cleaning\" data-toc-modified-id=\"Data-After-Cleaning-7\">Data After Cleaning</a></span><ul class=\"toc-item\"><li><span><a href=\"#Export-File\" data-toc-modified-id=\"Export-File-7.1\">Export File</a></span></li></ul></li></ul></div>"
   ]
  },
  {
   "cell_type": "markdown",
   "metadata": {},
   "source": [
    "# Introduction"
   ]
  },
  {
   "cell_type": "markdown",
   "metadata": {},
   "source": [
    "The purpose of this notebook is to provide the steps I took to clean the dataset. The data came from the yelp dataset found [here](https://www.yelp.com/dataset)."
   ]
  },
  {
   "cell_type": "code",
   "execution_count": 6,
   "metadata": {},
   "outputs": [],
   "source": [
    "# basic libraries used; additional libraries will be imported when needed\n",
    "\n",
    "import numpy as np \n",
    "import pandas as pd \n",
    "import matplotlib.pyplot as plt\n",
    "\n",
    "pd.options.mode.chained_assignment = None  # default='warn'"
   ]
  },
  {
   "cell_type": "code",
   "execution_count": 7,
   "metadata": {},
   "outputs": [],
   "source": [
    "# Functions that will be used to help with data cleaning:\n",
    "\n",
    "def show_missing(df):\n",
    "    '''\n",
    "    Input takes a dataframe. Prints out every column and the number of missing values + percentage of missing.\n",
    "    Columns that have no missing values are not printed.\n",
    "    \n",
    "    '''\n",
    "    \n",
    "    df_columns = df.columns\n",
    "    missing_data_df = pd.DataFrame(\n",
    "        [column, df[column].isna().sum(), round((df[column].isna().sum()/df.shape[0]) * 100, 2)] for column in df_columns\n",
    "    )\n",
    "    missing_data_df.columns = ['Column', 'Missing Values', '% of N/A']\n",
    "    \n",
    "    \n",
    "    print(missing_data_df.to_string())\n"
   ]
  },
  {
   "cell_type": "markdown",
   "metadata": {},
   "source": [
    "# Data Import"
   ]
  },
  {
   "cell_type": "code",
   "execution_count": 8,
   "metadata": {},
   "outputs": [
    {
     "data": {
      "text/html": [
       "<div>\n",
       "<style scoped>\n",
       "    .dataframe tbody tr th:only-of-type {\n",
       "        vertical-align: middle;\n",
       "    }\n",
       "\n",
       "    .dataframe tbody tr th {\n",
       "        vertical-align: top;\n",
       "    }\n",
       "\n",
       "    .dataframe thead th {\n",
       "        text-align: right;\n",
       "    }\n",
       "</style>\n",
       "<table border=\"1\" class=\"dataframe\">\n",
       "  <thead>\n",
       "    <tr style=\"text-align: right;\">\n",
       "      <th></th>\n",
       "      <th>name</th>\n",
       "      <th>postal_code</th>\n",
       "      <th>stars</th>\n",
       "      <th>review_count</th>\n",
       "      <th>is_open</th>\n",
       "      <th>attributes</th>\n",
       "      <th>categories</th>\n",
       "      <th>hours</th>\n",
       "    </tr>\n",
       "  </thead>\n",
       "  <tbody>\n",
       "    <tr>\n",
       "      <th>0</th>\n",
       "      <td>Bakery Gateau</td>\n",
       "      <td>M3B 1Y6</td>\n",
       "      <td>4.5</td>\n",
       "      <td>8</td>\n",
       "      <td>1</td>\n",
       "      <td>{'RestaurantsDelivery': 'False', 'RestaurantsP...</td>\n",
       "      <td>Bakeries, Food</td>\n",
       "      <td>{'Monday': '9:0-20:0', 'Tuesday': '9:0-20:0', ...</td>\n",
       "    </tr>\n",
       "    <tr>\n",
       "      <th>10</th>\n",
       "      <td>Bolt Fresh Bar</td>\n",
       "      <td>M6J 1J5</td>\n",
       "      <td>3.0</td>\n",
       "      <td>57</td>\n",
       "      <td>1</td>\n",
       "      <td>{'WiFi': \"u'no'\", 'BikeParking': 'True', 'Rest...</td>\n",
       "      <td>Juice Bars &amp; Smoothies, Food, Restaurants, Fas...</td>\n",
       "      <td>{'Monday': '8:0-21:0', 'Tuesday': '8:0-21:0', ...</td>\n",
       "    </tr>\n",
       "    <tr>\n",
       "      <th>70</th>\n",
       "      <td>The Steady Cafe &amp; Bar</td>\n",
       "      <td>M6H 1M4</td>\n",
       "      <td>3.5</td>\n",
       "      <td>29</td>\n",
       "      <td>0</td>\n",
       "      <td>{'BusinessParking': \"{'garage': False, 'street...</td>\n",
       "      <td>Restaurants, Nightlife, Breakfast &amp; Brunch, Ve...</td>\n",
       "      <td>{'Tuesday': '9:0-18:0', 'Wednesday': '9:0-18:0...</td>\n",
       "    </tr>\n",
       "    <tr>\n",
       "      <th>99</th>\n",
       "      <td>Mad Crush Wine Bar</td>\n",
       "      <td>M6G 1B3</td>\n",
       "      <td>4.0</td>\n",
       "      <td>9</td>\n",
       "      <td>0</td>\n",
       "      <td>{'Alcohol': \"u'full_bar'\", 'Caters': 'False', ...</td>\n",
       "      <td>Restaurants, Breakfast &amp; Brunch, Bars, Modern ...</td>\n",
       "      <td>{'Thursday': '18:0-2:0', 'Friday': '18:0-2:0',...</td>\n",
       "    </tr>\n",
       "    <tr>\n",
       "      <th>108</th>\n",
       "      <td>Tavolino</td>\n",
       "      <td>M4S 2M5</td>\n",
       "      <td>4.0</td>\n",
       "      <td>18</td>\n",
       "      <td>1</td>\n",
       "      <td>{'RestaurantsPriceRange2': '2', 'HasTV': 'Fals...</td>\n",
       "      <td>Italian, Restaurants</td>\n",
       "      <td>NaN</td>\n",
       "    </tr>\n",
       "  </tbody>\n",
       "</table>\n",
       "</div>"
      ],
      "text/plain": [
       "                      name postal_code  stars  review_count  is_open  \\\n",
       "0            Bakery Gateau     M3B 1Y6    4.5             8        1   \n",
       "10          Bolt Fresh Bar     M6J 1J5    3.0            57        1   \n",
       "70   The Steady Cafe & Bar     M6H 1M4    3.5            29        0   \n",
       "99      Mad Crush Wine Bar     M6G 1B3    4.0             9        0   \n",
       "108               Tavolino     M4S 2M5    4.0            18        1   \n",
       "\n",
       "                                            attributes  \\\n",
       "0    {'RestaurantsDelivery': 'False', 'RestaurantsP...   \n",
       "10   {'WiFi': \"u'no'\", 'BikeParking': 'True', 'Rest...   \n",
       "70   {'BusinessParking': \"{'garage': False, 'street...   \n",
       "99   {'Alcohol': \"u'full_bar'\", 'Caters': 'False', ...   \n",
       "108  {'RestaurantsPriceRange2': '2', 'HasTV': 'Fals...   \n",
       "\n",
       "                                            categories  \\\n",
       "0                                       Bakeries, Food   \n",
       "10   Juice Bars & Smoothies, Food, Restaurants, Fas...   \n",
       "70   Restaurants, Nightlife, Breakfast & Brunch, Ve...   \n",
       "99   Restaurants, Breakfast & Brunch, Bars, Modern ...   \n",
       "108                               Italian, Restaurants   \n",
       "\n",
       "                                                 hours  \n",
       "0    {'Monday': '9:0-20:0', 'Tuesday': '9:0-20:0', ...  \n",
       "10   {'Monday': '8:0-21:0', 'Tuesday': '8:0-21:0', ...  \n",
       "70   {'Tuesday': '9:0-18:0', 'Wednesday': '9:0-18:0...  \n",
       "99   {'Thursday': '18:0-2:0', 'Friday': '18:0-2:0',...  \n",
       "108                                                NaN  "
      ]
     },
     "execution_count": 8,
     "metadata": {},
     "output_type": "execute_result"
    }
   ],
   "source": [
    "# columns to be read from data source\n",
    "\n",
    "columns_to_read = ['name', 'postal_code', 'stars_x', 'review_count', \n",
    "                   'is_open', 'attributes', 'categories', \n",
    "                   'hours']\n",
    "\n",
    "\n",
    "# read file\n",
    "\n",
    "rest_data = pd.read_csv(\"data/yelp_filtered.csv\", usecols = columns_to_read).rename(columns= {'stars_x':'stars'})\n",
    "rest_data = rest_data.drop_duplicates()\n",
    "rest_data.head()"
   ]
  },
  {
   "cell_type": "markdown",
   "metadata": {},
   "source": [
    "For the remainder of the data, I want to clean the data as such: \n",
    "\n",
    "`postal code`: \n",
    "- Make sure no missing values\n",
    "- Make sure that all postal codes belong in the geographic region I want it to be in\n",
    "- Convert all postal codes into FSA's (first three values)\n",
    "\n",
    "`attributes`:\n",
    "- Flatten attributes and turn into dummy variables\n",
    "- Remove missing values\n",
    "\n",
    "\n",
    "`categories`:\n",
    "- Convert these categories into a list of defined sub-categories\n",
    "\n",
    "`hours`:\n",
    "- Flatten these and turn into number of hours open\n",
    "- Fix missing hours\n",
    "\n",
    "`stars`:\n",
    "- Change these to dummy variables alongside `is_open`\n",
    "\n",
    "`review_count`:\n",
    "- Do nothing for now.\n",
    "- **Thinking about using this to weigh ratings**"
   ]
  },
  {
   "cell_type": "code",
   "execution_count": 9,
   "metadata": {},
   "outputs": [
    {
     "data": {
      "text/plain": [
       "name               0\n",
       "postal_code       38\n",
       "stars              0\n",
       "review_count       0\n",
       "is_open            0\n",
       "attributes       468\n",
       "categories         0\n",
       "hours           2530\n",
       "dtype: int64"
      ]
     },
     "execution_count": 9,
     "metadata": {},
     "output_type": "execute_result"
    }
   ],
   "source": [
    "# A quick look at what kind of missing values we have\n",
    "\n",
    "rest_data.isna().sum()"
   ]
  },
  {
   "cell_type": "code",
   "execution_count": 10,
   "metadata": {},
   "outputs": [
    {
     "data": {
      "text/plain": [
       "(10093, 8)"
      ]
     },
     "execution_count": 10,
     "metadata": {},
     "output_type": "execute_result"
    }
   ],
   "source": [
    "rest_data.shape"
   ]
  },
  {
   "cell_type": "markdown",
   "metadata": {},
   "source": [
    "# Cleaning `postal_code`"
   ]
  },
  {
   "cell_type": "code",
   "execution_count": 11,
   "metadata": {},
   "outputs": [
    {
     "name": "stdout",
     "output_type": "stream",
     "text": [
      "Shape of data before cleaning postal code column: (10093, 8)\n"
     ]
    }
   ],
   "source": [
    "print(f\"Shape of data before cleaning postal code column: {rest_data.shape}\")"
   ]
  },
  {
   "cell_type": "markdown",
   "metadata": {},
   "source": [
    "### Removing missing values from column"
   ]
  },
  {
   "cell_type": "code",
   "execution_count": 12,
   "metadata": {},
   "outputs": [],
   "source": [
    "# Remove any rows that have any missing values in postal code column\n",
    "\n",
    "rest_data = rest_data[rest_data['postal_code'].notna()]"
   ]
  },
  {
   "cell_type": "markdown",
   "metadata": {},
   "source": [
    "### Removing any incorrectly classified postal codes"
   ]
  },
  {
   "cell_type": "markdown",
   "metadata": {},
   "source": [
    "I plan on only analyzing restaurants in *M* or *V* postal codes. "
   ]
  },
  {
   "cell_type": "code",
   "execution_count": 13,
   "metadata": {},
   "outputs": [
    {
     "data": {
      "text/plain": [
       "M    10044\n",
       "L        8\n",
       "V        2\n",
       "W        1\n",
       "Name: postal_code, dtype: int64"
      ]
     },
     "execution_count": 13,
     "metadata": {},
     "output_type": "execute_result"
    }
   ],
   "source": [
    "rest_data['postal_code'].str[:1].value_counts()"
   ]
  },
  {
   "cell_type": "code",
   "execution_count": 14,
   "metadata": {},
   "outputs": [
    {
     "name": "stdout",
     "output_type": "stream",
     "text": [
      "Shape of data after cleaning postal code column: (9955, 9)\n"
     ]
    }
   ],
   "source": [
    "# Remove any postal code that is not M or V\n",
    "\n",
    "rest_data = rest_data.drop(rest_data[rest_data['postal_code'].str[:1] == 'V'].index)\n",
    "rest_data = rest_data.drop(rest_data[rest_data['postal_code'].str[:1] == 'W'].index)\n",
    "\n",
    "# Removing any postal code that is empty\n",
    "\n",
    "rest_data = rest_data.drop(rest_data[rest_data['postal_code'].str[:1] == ''].index)\n",
    "\n",
    "# Removing any postal code that pertains to airports or retired postal codes\n",
    "\n",
    "rest_data = rest_data.drop(rest_data[rest_data['postal_code'].str[:3] == 'L5P'].index)\n",
    "rest_data = rest_data.drop(rest_data[rest_data['postal_code'].str[:3] == 'M4I'].index)\n",
    "\n",
    "rest_data = rest_data.drop(rest_data[rest_data['postal_code'].str[:3] == 'M3I'].index)\n",
    "rest_data = rest_data.drop(rest_data[rest_data['postal_code'].str[:3] == 'M5X'].index)\n",
    "rest_data = rest_data.drop(rest_data[rest_data['postal_code'].str[:3] == 'M5L'].index)\n",
    "rest_data = rest_data.drop(rest_data[rest_data['postal_code'].str[:3] == 'M5K'].index)\n",
    "rest_data = rest_data.drop(rest_data[rest_data['postal_code'].str[:3] == 'M7A'].index)\n",
    "rest_data = rest_data.drop(rest_data[rest_data['postal_code'].str[:3] == 'L5T'].index)\n",
    "rest_data = rest_data.reset_index()\n",
    "\n",
    "\n",
    "print(f\"Shape of data after cleaning postal code column: {rest_data.shape}\")"
   ]
  },
  {
   "cell_type": "markdown",
   "metadata": {},
   "source": [
    "### Converting all postal codes into FSA values"
   ]
  },
  {
   "cell_type": "markdown",
   "metadata": {},
   "source": [
    "Postal codes need to be changed to FSA values so I can merge the data with the demographic data. This is completed by only keeping the first three values of the postal code."
   ]
  },
  {
   "cell_type": "code",
   "execution_count": 15,
   "metadata": {},
   "outputs": [
    {
     "data": {
      "text/plain": [
       "M5V    639\n",
       "M5T    617\n",
       "M6J    411\n",
       "M6G    384\n",
       "M4Y    324\n",
       "      ... \n",
       "M7Y      1\n",
       "L4W      1\n",
       "L6A      1\n",
       "M5W      1\n",
       "L3R      1\n",
       "Name: FSA, Length: 102, dtype: int64"
      ]
     },
     "execution_count": 15,
     "metadata": {},
     "output_type": "execute_result"
    }
   ],
   "source": [
    "# Removing anything past the third character in postal codes\n",
    "\n",
    "rest_data['FSA'] = rest_data['postal_code'].str[:3]\n",
    "\n",
    "\n",
    "# Remove original postal_code column\n",
    "\n",
    "rest_data.drop(columns=['postal_code'])\n",
    "\n",
    "\n",
    "# Print new column\n",
    "\n",
    "rest_data['FSA'].value_counts()"
   ]
  },
  {
   "cell_type": "markdown",
   "metadata": {},
   "source": [
    "# Cleaning `hours`"
   ]
  },
  {
   "cell_type": "markdown",
   "metadata": {},
   "source": [
    "### Dropping any rows that have missing values in column"
   ]
  },
  {
   "cell_type": "code",
   "execution_count": 16,
   "metadata": {},
   "outputs": [
    {
     "data": {
      "text/html": [
       "<div>\n",
       "<style scoped>\n",
       "    .dataframe tbody tr th:only-of-type {\n",
       "        vertical-align: middle;\n",
       "    }\n",
       "\n",
       "    .dataframe tbody tr th {\n",
       "        vertical-align: top;\n",
       "    }\n",
       "\n",
       "    .dataframe thead th {\n",
       "        text-align: right;\n",
       "    }\n",
       "</style>\n",
       "<table border=\"1\" class=\"dataframe\">\n",
       "  <thead>\n",
       "    <tr style=\"text-align: right;\">\n",
       "      <th></th>\n",
       "      <th>index</th>\n",
       "      <th>name</th>\n",
       "      <th>postal_code</th>\n",
       "      <th>stars</th>\n",
       "      <th>review_count</th>\n",
       "      <th>is_open</th>\n",
       "      <th>attributes</th>\n",
       "      <th>categories</th>\n",
       "      <th>hours</th>\n",
       "      <th>FSA</th>\n",
       "    </tr>\n",
       "  </thead>\n",
       "  <tbody>\n",
       "    <tr>\n",
       "      <th>0</th>\n",
       "      <td>0</td>\n",
       "      <td>Bakery Gateau</td>\n",
       "      <td>M3B 1Y6</td>\n",
       "      <td>4.5</td>\n",
       "      <td>8</td>\n",
       "      <td>1</td>\n",
       "      <td>{'RestaurantsDelivery': 'False', 'RestaurantsP...</td>\n",
       "      <td>Bakeries, Food</td>\n",
       "      <td>{'Monday': '9:0-20:0', 'Tuesday': '9:0-20:0', ...</td>\n",
       "      <td>M3B</td>\n",
       "    </tr>\n",
       "    <tr>\n",
       "      <th>1</th>\n",
       "      <td>10</td>\n",
       "      <td>Bolt Fresh Bar</td>\n",
       "      <td>M6J 1J5</td>\n",
       "      <td>3.0</td>\n",
       "      <td>57</td>\n",
       "      <td>1</td>\n",
       "      <td>{'WiFi': \"u'no'\", 'BikeParking': 'True', 'Rest...</td>\n",
       "      <td>Juice Bars &amp; Smoothies, Food, Restaurants, Fas...</td>\n",
       "      <td>{'Monday': '8:0-21:0', 'Tuesday': '8:0-21:0', ...</td>\n",
       "      <td>M6J</td>\n",
       "    </tr>\n",
       "    <tr>\n",
       "      <th>2</th>\n",
       "      <td>70</td>\n",
       "      <td>The Steady Cafe &amp; Bar</td>\n",
       "      <td>M6H 1M4</td>\n",
       "      <td>3.5</td>\n",
       "      <td>29</td>\n",
       "      <td>0</td>\n",
       "      <td>{'BusinessParking': \"{'garage': False, 'street...</td>\n",
       "      <td>Restaurants, Nightlife, Breakfast &amp; Brunch, Ve...</td>\n",
       "      <td>{'Tuesday': '9:0-18:0', 'Wednesday': '9:0-18:0...</td>\n",
       "      <td>M6H</td>\n",
       "    </tr>\n",
       "    <tr>\n",
       "      <th>3</th>\n",
       "      <td>99</td>\n",
       "      <td>Mad Crush Wine Bar</td>\n",
       "      <td>M6G 1B3</td>\n",
       "      <td>4.0</td>\n",
       "      <td>9</td>\n",
       "      <td>0</td>\n",
       "      <td>{'Alcohol': \"u'full_bar'\", 'Caters': 'False', ...</td>\n",
       "      <td>Restaurants, Breakfast &amp; Brunch, Bars, Modern ...</td>\n",
       "      <td>{'Thursday': '18:0-2:0', 'Friday': '18:0-2:0',...</td>\n",
       "      <td>M6G</td>\n",
       "    </tr>\n",
       "    <tr>\n",
       "      <th>5</th>\n",
       "      <td>127</td>\n",
       "      <td>Burrito Bandidos</td>\n",
       "      <td>M4L 1G4</td>\n",
       "      <td>3.5</td>\n",
       "      <td>43</td>\n",
       "      <td>1</td>\n",
       "      <td>{'RestaurantsGoodForGroups': 'True', 'Restaura...</td>\n",
       "      <td>Tex-Mex, Mexican, Restaurants</td>\n",
       "      <td>{'Monday': '11:0-23:0', 'Tuesday': '11:0-23:0'...</td>\n",
       "      <td>M4L</td>\n",
       "    </tr>\n",
       "  </tbody>\n",
       "</table>\n",
       "</div>"
      ],
      "text/plain": [
       "   index                   name postal_code  stars  review_count  is_open  \\\n",
       "0      0          Bakery Gateau     M3B 1Y6    4.5             8        1   \n",
       "1     10         Bolt Fresh Bar     M6J 1J5    3.0            57        1   \n",
       "2     70  The Steady Cafe & Bar     M6H 1M4    3.5            29        0   \n",
       "3     99     Mad Crush Wine Bar     M6G 1B3    4.0             9        0   \n",
       "5    127       Burrito Bandidos     M4L 1G4    3.5            43        1   \n",
       "\n",
       "                                          attributes  \\\n",
       "0  {'RestaurantsDelivery': 'False', 'RestaurantsP...   \n",
       "1  {'WiFi': \"u'no'\", 'BikeParking': 'True', 'Rest...   \n",
       "2  {'BusinessParking': \"{'garage': False, 'street...   \n",
       "3  {'Alcohol': \"u'full_bar'\", 'Caters': 'False', ...   \n",
       "5  {'RestaurantsGoodForGroups': 'True', 'Restaura...   \n",
       "\n",
       "                                          categories  \\\n",
       "0                                     Bakeries, Food   \n",
       "1  Juice Bars & Smoothies, Food, Restaurants, Fas...   \n",
       "2  Restaurants, Nightlife, Breakfast & Brunch, Ve...   \n",
       "3  Restaurants, Breakfast & Brunch, Bars, Modern ...   \n",
       "5                      Tex-Mex, Mexican, Restaurants   \n",
       "\n",
       "                                               hours  FSA  \n",
       "0  {'Monday': '9:0-20:0', 'Tuesday': '9:0-20:0', ...  M3B  \n",
       "1  {'Monday': '8:0-21:0', 'Tuesday': '8:0-21:0', ...  M6J  \n",
       "2  {'Tuesday': '9:0-18:0', 'Wednesday': '9:0-18:0...  M6H  \n",
       "3  {'Thursday': '18:0-2:0', 'Friday': '18:0-2:0',...  M6G  \n",
       "5  {'Monday': '11:0-23:0', 'Tuesday': '11:0-23:0'...  M4L  "
      ]
     },
     "execution_count": 16,
     "metadata": {},
     "output_type": "execute_result"
    }
   ],
   "source": [
    "rest_data = rest_data[rest_data['hours'].notna()]\n",
    "rest_data.head()"
   ]
  },
  {
   "cell_type": "markdown",
   "metadata": {},
   "source": [
    "### Flattening dictionaries in column"
   ]
  },
  {
   "cell_type": "code",
   "execution_count": 17,
   "metadata": {},
   "outputs": [],
   "source": [
    "flattened_hours = rest_data.loc[:,'hours'].apply(lambda x: pd.Series(eval(x)))"
   ]
  },
  {
   "cell_type": "markdown",
   "metadata": {},
   "source": [
    "A few assumptions here:\n",
    "- It seems that NaN values actually means that it is closed. \n",
    "- Yelp seems to assume that restaurants don't close halfway through the day, which is actually quite common. \n",
    "    - This might actually work to my advantage here - this gives me a good baseline on how to split them into categorical values. I will first change the columns into how many hours they're open in a day, and then see how I should split them into dummy variables."
   ]
  },
  {
   "cell_type": "markdown",
   "metadata": {},
   "source": [
    "### Adding up total number of hours open a day"
   ]
  },
  {
   "cell_type": "code",
   "execution_count": 18,
   "metadata": {},
   "outputs": [],
   "source": [
    "# Create a function that finds the number of hours a restaurant is open\n",
    "\n",
    "def hours_open(restaurant_hours):\n",
    "    '''\n",
    "    Takes in the hours of operation of a restaurant. For example\n",
    "    >>> 10:0 - 20:0\n",
    "    10\n",
    "    >>> 10:0 - 23:40\n",
    "    \n",
    "    Takes in a string, returns an integer.\n",
    "    \n",
    "    If input is NaN, returns 0\n",
    "    '''\n",
    "    if restaurant_hours != '0:0-0:0' and type(restaurant_hours) != float: # if not missing value or have no hours\n",
    "        (start,end) = restaurant_hours.split('-')\n",
    "        (start_h,start_m) = start.split(':')\n",
    "        (end_h, end_m) = end.split(':')\n",
    "        result = (int(end_h) - int(start_h)) + (int(end_m) - int(start_m)) / 60\n",
    "        return abs(round(result, 2))\n",
    "    else:\n",
    "        return 0"
   ]
  },
  {
   "cell_type": "code",
   "execution_count": 19,
   "metadata": {},
   "outputs": [
    {
     "data": {
      "text/html": [
       "<div>\n",
       "<style scoped>\n",
       "    .dataframe tbody tr th:only-of-type {\n",
       "        vertical-align: middle;\n",
       "    }\n",
       "\n",
       "    .dataframe tbody tr th {\n",
       "        vertical-align: top;\n",
       "    }\n",
       "\n",
       "    .dataframe thead th {\n",
       "        text-align: right;\n",
       "    }\n",
       "</style>\n",
       "<table border=\"1\" class=\"dataframe\">\n",
       "  <thead>\n",
       "    <tr style=\"text-align: right;\">\n",
       "      <th></th>\n",
       "      <th>Monday</th>\n",
       "      <th>Tuesday</th>\n",
       "      <th>Wednesday</th>\n",
       "      <th>Thursday</th>\n",
       "      <th>Friday</th>\n",
       "      <th>Saturday</th>\n",
       "      <th>Sunday</th>\n",
       "    </tr>\n",
       "  </thead>\n",
       "  <tbody>\n",
       "    <tr>\n",
       "      <th>0</th>\n",
       "      <td>11.0</td>\n",
       "      <td>11.0</td>\n",
       "      <td>11.0</td>\n",
       "      <td>11.0</td>\n",
       "      <td>11.0</td>\n",
       "      <td>11.0</td>\n",
       "      <td>11.0</td>\n",
       "    </tr>\n",
       "    <tr>\n",
       "      <th>1</th>\n",
       "      <td>13.0</td>\n",
       "      <td>13.0</td>\n",
       "      <td>13.0</td>\n",
       "      <td>13.0</td>\n",
       "      <td>13.0</td>\n",
       "      <td>12.0</td>\n",
       "      <td>12.0</td>\n",
       "    </tr>\n",
       "    <tr>\n",
       "      <th>2</th>\n",
       "      <td>0.0</td>\n",
       "      <td>9.0</td>\n",
       "      <td>9.0</td>\n",
       "      <td>9.0</td>\n",
       "      <td>7.0</td>\n",
       "      <td>8.0</td>\n",
       "      <td>5.0</td>\n",
       "    </tr>\n",
       "    <tr>\n",
       "      <th>3</th>\n",
       "      <td>0.0</td>\n",
       "      <td>0.0</td>\n",
       "      <td>0.0</td>\n",
       "      <td>16.0</td>\n",
       "      <td>16.0</td>\n",
       "      <td>16.0</td>\n",
       "      <td>0.0</td>\n",
       "    </tr>\n",
       "    <tr>\n",
       "      <th>5</th>\n",
       "      <td>12.0</td>\n",
       "      <td>12.0</td>\n",
       "      <td>12.0</td>\n",
       "      <td>12.0</td>\n",
       "      <td>12.0</td>\n",
       "      <td>11.0</td>\n",
       "      <td>10.0</td>\n",
       "    </tr>\n",
       "  </tbody>\n",
       "</table>\n",
       "</div>"
      ],
      "text/plain": [
       "   Monday  Tuesday  Wednesday  Thursday  Friday  Saturday  Sunday\n",
       "0    11.0     11.0       11.0      11.0    11.0      11.0    11.0\n",
       "1    13.0     13.0       13.0      13.0    13.0      12.0    12.0\n",
       "2     0.0      9.0        9.0       9.0     7.0       8.0     5.0\n",
       "3     0.0      0.0        0.0      16.0    16.0      16.0     0.0\n",
       "5    12.0     12.0       12.0      12.0    12.0      11.0    10.0"
      ]
     },
     "execution_count": 19,
     "metadata": {},
     "output_type": "execute_result"
    }
   ],
   "source": [
    "# Apply to all the hours columns\n",
    "\n",
    "flattened_hours = flattened_hours.applymap(hours_open)\n",
    "flattened_hours.head()"
   ]
  },
  {
   "cell_type": "markdown",
   "metadata": {},
   "source": [
    "### Adding back to "
   ]
  },
  {
   "cell_type": "code",
   "execution_count": 20,
   "metadata": {},
   "outputs": [
    {
     "name": "stdout",
     "output_type": "stream",
     "text": [
      "Data before adding `hours` data: (7483, 10)\n",
      "Data after adding `hours` data: (7483, 16)\n"
     ]
    }
   ],
   "source": [
    "# Adding flatteend_hours back to data, delete original hours column\n",
    "print(f\"Data before adding `hours` data: {rest_data.shape}\")\n",
    "rest_data = pd.concat([rest_data, flattened_hours], axis = 1, sort = False)\n",
    "rest_data = rest_data.drop(columns = ['hours'])\n",
    "print(f\"Data after adding `hours` data: {rest_data.shape}\")\n"
   ]
  },
  {
   "cell_type": "markdown",
   "metadata": {},
   "source": [
    "# Cleaning `attributes`"
   ]
  },
  {
   "cell_type": "markdown",
   "metadata": {},
   "source": [
    "### Removing missing values"
   ]
  },
  {
   "cell_type": "code",
   "execution_count": 21,
   "metadata": {},
   "outputs": [
    {
     "name": "stdout",
     "output_type": "stream",
     "text": [
      "Shape of data after cleaning attributes column: (7483, 16)\n"
     ]
    }
   ],
   "source": [
    "print(f\"Shape of data after cleaning attributes column: {rest_data.shape}\")"
   ]
  },
  {
   "cell_type": "code",
   "execution_count": 22,
   "metadata": {},
   "outputs": [],
   "source": [
    "# Removing any rows that have missing attributes \n",
    "\n",
    "rest_data = rest_data[rest_data['attributes'].notna()].reset_index()"
   ]
  },
  {
   "cell_type": "markdown",
   "metadata": {},
   "source": [
    "The main challenge we have here is that the `attributes` column are a series of nested dictionaries. I want to flatten these dictionaries and turn them into dummy variables."
   ]
  },
  {
   "cell_type": "code",
   "execution_count": 23,
   "metadata": {},
   "outputs": [],
   "source": [
    "# Flattening the first layer of the dictionary\n",
    "    \n",
    "attributes_level_1 = rest_data.loc[:, 'attributes'].apply(lambda x: pd.Series(eval(x)))"
   ]
  },
  {
   "cell_type": "code",
   "execution_count": 24,
   "metadata": {},
   "outputs": [],
   "source": [
    "# Dropping `BusinessParking`. There is too much missing data inside for it to be useful.\n",
    "\n",
    "attributes_level_1 = attributes_level_1.drop(columns = ['BusinessParking']) "
   ]
  },
  {
   "cell_type": "code",
   "execution_count": 25,
   "metadata": {},
   "outputs": [
    {
     "name": "stdout",
     "output_type": "stream",
     "text": [
      "Data before adding flattened data: (7202, 17)\n",
      "Data after adding flattened data: (7202, 50)\n"
     ]
    }
   ],
   "source": [
    "print(f\"Data before adding flattened data: {rest_data.shape}\")\n",
    "\n",
    "rest_data = pd.concat([rest_data, attributes_level_1], axis = 1, sort = False)\n",
    "rest_data = rest_data.drop(columns = ['attributes'])\n",
    "\n",
    "print(f\"Data after adding flattened data: {rest_data.shape}\")"
   ]
  },
  {
   "cell_type": "code",
   "execution_count": 26,
   "metadata": {},
   "outputs": [
    {
     "name": "stdout",
     "output_type": "stream",
     "text": [
      "                        Column  Missing Values  % of N/A\n",
      "0                      level_0               0      0.00\n",
      "1                        index               0      0.00\n",
      "2                         name               0      0.00\n",
      "3                  postal_code               0      0.00\n",
      "4                        stars               0      0.00\n",
      "5                 review_count               0      0.00\n",
      "6                      is_open               0      0.00\n",
      "7                   categories               0      0.00\n",
      "8                          FSA               0      0.00\n",
      "9                       Monday               0      0.00\n",
      "10                     Tuesday               0      0.00\n",
      "11                   Wednesday               0      0.00\n",
      "12                    Thursday               0      0.00\n",
      "13                      Friday               0      0.00\n",
      "14                    Saturday               0      0.00\n",
      "15                      Sunday               0      0.00\n",
      "16         RestaurantsDelivery            1906     26.46\n",
      "17      RestaurantsPriceRange2             546      7.58\n",
      "18          RestaurantsTakeOut             844     11.72\n",
      "19                 BikeParking            1799     24.98\n",
      "20                        WiFi            2162     30.02\n",
      "21                      Caters            2981     41.39\n",
      "22     RestaurantsReservations            1982     27.52\n",
      "23                 GoodForKids            2049     28.45\n",
      "24           RestaurantsAttire            2320     32.21\n",
      "25                     Alcohol            2461     34.17\n",
      "26              OutdoorSeating            1715     23.81\n",
      "27                  NoiseLevel            2725     37.84\n",
      "28                       HasTV            2417     33.56\n",
      "29                    Ambience            2397     33.28\n",
      "30    RestaurantsGoodForGroups            1960     27.21\n",
      "31                     Smoking            6889     95.65\n",
      "32        WheelchairAccessible            5974     82.95\n",
      "33                 DogsAllowed            6497     90.21\n",
      "34                   CoatCheck            6874     95.45\n",
      "35     RestaurantsTableService            4928     68.43\n",
      "36                   HappyHour            6771     94.02\n",
      "37                       Music            6778     94.11\n",
      "38                  BestNights            6927     96.18\n",
      "39                 GoodForMeal            3834     53.24\n",
      "40                   DriveThru            6955     96.57\n",
      "41              GoodForDancing            6759     93.85\n",
      "42           ByAppointmentOnly            7104     98.64\n",
      "43  BusinessAcceptsCreditCards            6948     96.47\n",
      "44         DietaryRestrictions            7189     99.82\n",
      "45            AcceptsInsurance            7197     99.93\n",
      "46                 AgesAllowed            7199     99.96\n",
      "47           HairSpecializesIn            7200     99.97\n",
      "48   RestaurantsCounterService            7201     99.99\n",
      "49      BusinessAcceptsBitcoin            7201     99.99\n"
     ]
    }
   ],
   "source": [
    "# Looking at how many missing values there are for each column\n",
    "\n",
    "show_missing(rest_data)"
   ]
  },
  {
   "cell_type": "code",
   "execution_count": 27,
   "metadata": {},
   "outputs": [
    {
     "name": "stdout",
     "output_type": "stream",
     "text": [
      "                    Column  Missing Values  % of N/A\n",
      "0                  level_0               0      0.00\n",
      "1                    index               0      0.00\n",
      "2                     name               0      0.00\n",
      "3              postal_code               0      0.00\n",
      "4                    stars               0      0.00\n",
      "5             review_count               0      0.00\n",
      "6                  is_open               0      0.00\n",
      "7               categories               0      0.00\n",
      "8                      FSA               0      0.00\n",
      "9                   Monday               0      0.00\n",
      "10                 Tuesday               0      0.00\n",
      "11               Wednesday               0      0.00\n",
      "12                Thursday               0      0.00\n",
      "13                  Friday               0      0.00\n",
      "14                Saturday               0      0.00\n",
      "15                  Sunday               0      0.00\n",
      "16  RestaurantsPriceRange2             546      7.58\n",
      "17      RestaurantsTakeOut             844     11.72\n"
     ]
    }
   ],
   "source": [
    "# Removing any columns that have more than 25% of its data missing \n",
    "\n",
    "remove_these_columns = []\n",
    "\n",
    "rest_data_columns = rest_data.columns\n",
    "for column in rest_data_columns:\n",
    "    if rest_data[column].isna().sum() / rest_data.shape[0] >= 0.20: # if more than 25% of data is missing\n",
    "        remove_these_columns.append(column)\n",
    "        \n",
    "rest_data = rest_data.drop(columns = remove_these_columns)\n",
    "\n",
    "show_missing(rest_data)"
   ]
  },
  {
   "cell_type": "markdown",
   "metadata": {},
   "source": [
    "To fill in the rest of the data, we will take the distribution of T/F of each column and then fill each column's missing values accordingly."
   ]
  },
  {
   "cell_type": "markdown",
   "metadata": {},
   "source": [
    "### Cleaning `RestaurantsPriceRange`"
   ]
  },
  {
   "cell_type": "code",
   "execution_count": 28,
   "metadata": {},
   "outputs": [],
   "source": [
    "# Make sure values are either TRUE, FALSE, or NULL\n",
    "rest_data['price_range'] = rest_data['RestaurantsPriceRange2'].fillna(\"1\").replace('None', '1').apply(int)\n",
    "rest_data = rest_data.drop(columns = ['RestaurantsPriceRange2'])"
   ]
  },
  {
   "cell_type": "markdown",
   "metadata": {},
   "source": [
    "### Cleaning `RestaurantsTakeOut`"
   ]
  },
  {
   "cell_type": "code",
   "execution_count": 29,
   "metadata": {},
   "outputs": [],
   "source": [
    "rest_data['take_out'] = rest_data['RestaurantsTakeOut'].replace('None', 'False').fillna(\"False\").apply(eval).astype(int)\n",
    "rest_data = rest_data.drop(columns = ['RestaurantsTakeOut'])"
   ]
  },
  {
   "cell_type": "code",
   "execution_count": 30,
   "metadata": {},
   "outputs": [
    {
     "name": "stdout",
     "output_type": "stream",
     "text": [
      "          Column  Missing Values  % of N/A\n",
      "0        level_0               0       0.0\n",
      "1          index               0       0.0\n",
      "2           name               0       0.0\n",
      "3    postal_code               0       0.0\n",
      "4          stars               0       0.0\n",
      "5   review_count               0       0.0\n",
      "6        is_open               0       0.0\n",
      "7     categories               0       0.0\n",
      "8            FSA               0       0.0\n",
      "9         Monday               0       0.0\n",
      "10       Tuesday               0       0.0\n",
      "11     Wednesday               0       0.0\n",
      "12      Thursday               0       0.0\n",
      "13        Friday               0       0.0\n",
      "14      Saturday               0       0.0\n",
      "15        Sunday               0       0.0\n",
      "16   price_range               0       0.0\n",
      "17      take_out               0       0.0\n"
     ]
    }
   ],
   "source": [
    "show_missing(rest_data)"
   ]
  },
  {
   "cell_type": "markdown",
   "metadata": {},
   "source": [
    "# Cleaning Categories Column"
   ]
  },
  {
   "cell_type": "markdown",
   "metadata": {},
   "source": [
    "The categories column is the most important column of the dataset, because it will provide classifications of the restaurant. \n",
    "\n",
    "- For example: *Freshii* should go into: *Fastfood* and *Healthy*."
   ]
  },
  {
   "cell_type": "markdown",
   "metadata": {},
   "source": [
    "## Looking at the stock classifications"
   ]
  },
  {
   "cell_type": "code",
   "execution_count": 32,
   "metadata": {},
   "outputs": [
    {
     "data": {
      "text/plain": [
       "Coffee & Tea, Food                                                                                133\n",
       "Food, Coffee & Tea                                                                                108\n",
       "Restaurants, Italian                                                                               53\n",
       "Restaurants, Chinese                                                                               48\n",
       "Food, Grocery                                                                                      48\n",
       "                                                                                                 ... \n",
       "Arts & Entertainment, Restaurants, Nightlife, Music Venues, Bars, Pubs, American (Traditional)      1\n",
       "Nightlife, Gastropubs, Bars, British, Restaurants, Pubs                                             1\n",
       "Italian, Food, Pizza, Food Delivery Services, Restaurants                                           1\n",
       "Coffee & Tea, Cafes, Food, Restaurants, Desserts, Breakfast & Brunch                                1\n",
       "Food, Burmese, Restaurants, Coffee & Tea, Sandwiches, Juice Bars & Smoothies                        1\n",
       "Name: categories, Length: 4734, dtype: int64"
      ]
     },
     "execution_count": 32,
     "metadata": {},
     "output_type": "execute_result"
    }
   ],
   "source": [
    "rest_data['categories'].value_counts()"
   ]
  },
  {
   "cell_type": "code",
   "execution_count": 33,
   "metadata": {},
   "outputs": [
    {
     "data": {
      "text/plain": [
       "4734"
      ]
     },
     "execution_count": 33,
     "metadata": {},
     "output_type": "execute_result"
    }
   ],
   "source": [
    "len(rest_data['categories'].value_counts())"
   ]
  },
  {
   "cell_type": "markdown",
   "metadata": {},
   "source": [
    "The categories column has a lot of redundancies. The top 10 most frequent tags already show some signs of redundency; \"Chinese, Restaurants\" and \"Restaurants, Chinese\" should be the same. "
   ]
  },
  {
   "cell_type": "markdown",
   "metadata": {},
   "source": [
    "## Creating our own classifications"
   ]
  },
  {
   "cell_type": "markdown",
   "metadata": {},
   "source": [
    "Lets first convert every string into a list"
   ]
  },
  {
   "cell_type": "code",
   "execution_count": 34,
   "metadata": {},
   "outputs": [],
   "source": [
    "mask = rest_data['categories']\n",
    "\n",
    "keywords_to_remove = [\"&\", \"Restaurants\", \"Restaurant\", \"Food\"]\n",
    "for i in range(0,len(mask)): \n",
    "    \n",
    "    # remove any commas, and seperate every word as a seperate item in a list\n",
    "    mask[i] = mask[i].replace(\",\", \"\").split() \n",
    "    \n",
    "    # remove any item in list that isn't a word\n",
    "    for item in mask[i]:\n",
    "        if item in keywords_to_remove:\n",
    "            mask[i].remove(item)\n",
    "    \n",
    "    if 'Chinese' in mask[i] or 'Hot' in mask[i] or 'Taiwanese' in mask[i] or 'Bubble' in mask[i]:\n",
    "        mask[i] = \"Chinese\"\n",
    "    elif 'Filipino' in mask[i] or 'Thai' in mask[i] or 'Pho' in mask[i] or 'Vietnamese' in mask[i] or 'Indonesian' in mask[i]:\n",
    "        mask[i] = \"South East Asian\"\n",
    "    elif 'Iranian' in mask[i] or 'Peruvian' in mask[i] or \"Persian/Iranian\" in mask[i] or 'Middle' in mask[i] or 'Afghan' in mask[i] or 'Persian' in mask[i] or 'Indian' in mask[i] or 'Sri' in mask[i] or 'Halal' in mask[i] or 'Fusion' in mask[i] or 'Mediterranean' in mask[i] or 'Turkish' in mask[i] or 'Greek' in mask[i]:\n",
    "        mask[i] = \"West Asian\"\n",
    "    elif 'Coffee' in mask[i] or 'Cafes' in mask[i] or 'Tea' in mask[i]:\n",
    "        mask[i] = 'Coffee/Tea'\n",
    "    elif 'Bakeries' in mask[i]:\n",
    "        mask[i] = \"Bakeries\"\n",
    "    elif 'Vegan' in mask[i] or 'Vegetarian' in mask[i]:\n",
    "        mask[i] = \"Vegetarian/Vegan\"\n",
    "    elif 'Mexican' in mask[i]:\n",
    "        mask[i] = \"Mexican\"\n",
    "    elif 'Japanese' in mask[i] or 'Sushi' in mask[i] or 'Poke' in mask[i]:\n",
    "        mask[i] = \"Japanese\"\n",
    "    elif 'Caribbean' in mask[i] or 'Korean' in mask[i] or 'African' in mask[i] or 'Ethiopian' in mask[i]:\n",
    "        mask[i] = \"Korean\"\n",
    "        \n",
    "        \n",
    "    elif 'Italian' in mask[i] or 'Pizza' in mask[i] or 'Canadian' in mask[i] or \"Poutineries\" in mask[i] or \\\n",
    "        'Burgers' in mask[i] or 'Chips' in mask[i] or 'Fast' in mask[i] or 'Fries' in mask[i] or \\\n",
    "    'American' in mask[i] or 'Barbeque' in mask[i] or 'French' in mask[i] or 'Chicken' in mask[i]:\n",
    "        mask[i] = \"Non-Visible Minority Foods\"\n",
    "        \n",
    "        \n",
    "    elif 'Breakfast' in mask[i] or 'Brunch' in mask[i] or 'Soup' in mask[i] or 'Sandwiches' in mask[i] or 'Diners' in mask[i] or 'Waffles' in mask[i]:\n",
    "        mask[i] = \"Breakfast/Brunch\"\n",
    "\n",
    "    elif 'Desserts' in mask[i] or 'Ice Cream' in mask[i] or 'Frozen' in mask[i]:\n",
    "        mask[i] = \"Desserts\"\n",
    "    elif 'Bars' in mask[i] or 'Nightlife' in mask[i] or 'Beer' in mask[i] or 'Gastropubs' in mask[i] or 'Breweries' in mask[i]:\n",
    "        mask[i] = \"Bars\"\n",
    "    elif 'Specialty' in mask[i] or 'Grocery' in mask[i] or 'Stores' in mask[i] or 'Seafood' in mask[i]:\n",
    "        mask[i] = \"Specialty\"\n",
    "    else:\n",
    "        mask[i] = 'Misc'"
   ]
  },
  {
   "cell_type": "code",
   "execution_count": null,
   "metadata": {},
   "outputs": [],
   "source": [
    "# change mask to rest_data after done\n",
    "rest_data['categories'].value_counts()"
   ]
  },
  {
   "cell_type": "markdown",
   "metadata": {},
   "source": [
    "## Converting `is_open` and `stars` into dummy variable"
   ]
  },
  {
   "cell_type": "code",
   "execution_count": 54,
   "metadata": {},
   "outputs": [
    {
     "data": {
      "text/plain": [
       "[Text(0, 0.5, 'Number of Restaurants')]"
      ]
     },
     "execution_count": 54,
     "metadata": {},
     "output_type": "execute_result"
    },
    {
     "data": {
      "image/png": "[encoded data removed]",
      "text/plain": [
       "<Figure size 504x360 with 1 Axes>"
      ]
     },
     "metadata": {
      "needs_background": "light"
     },
     "output_type": "display_data"
    }
   ],
   "source": [
    "x1 = rest_data['is_open'].sum()\n",
    "x2 = len(rest_data['is_open'])\n",
    "X = [x1, x2-x1]\n",
    "\n",
    "import seaborn as sns\n",
    "plt.figure(figsize=(7,5))\n",
    "ax = sns.barplot(x=['Open Restaurants', 'Closed Restaurants'], y = X, color = \"salmon\", saturation=.5)\n",
    "ax.set_title('Distribution of Restaurants that are Closed or Open in Toronto, Ontario')\n",
    "ax.set(ylabel = \"Number of Restaurants\")"
   ]
  },
  {
   "cell_type": "code",
   "execution_count": 67,
   "metadata": {},
   "outputs": [
    {
     "data": {
      "text/plain": [
       "2051"
      ]
     },
     "execution_count": 67,
     "metadata": {},
     "output_type": "execute_result"
    }
   ],
   "source": [
    "x2 - x1"
   ]
  },
  {
   "cell_type": "code",
   "execution_count": 65,
   "metadata": {},
   "outputs": [
    {
     "data": {
      "text/plain": [
       "[Text(0, 0.5, 'Number of Restaurants')]"
      ]
     },
     "execution_count": 65,
     "metadata": {},
     "output_type": "execute_result"
    },
    {
     "data": {
      "image/png": "[encoded data removed]",
      "text/plain": [
       "<Figure size 504x360 with 1 Axes>"
      ]
     },
     "metadata": {
      "needs_background": "light"
     },
     "output_type": "display_data"
    }
   ],
   "source": [
    "plt.figure(figsize=(7,5))\n",
    "ax2 = sns.distplot(rest_data[\"stars\"], kde=False, bins = 9)\n",
    "ax2.set_title('Distribution of Star Ratings')\n",
    "ax2.set(ylabel = \"Number of Restaurants\")"
   ]
  },
  {
   "cell_type": "code",
   "execution_count": null,
   "metadata": {},
   "outputs": [],
   "source": []
  },
  {
   "cell_type": "markdown",
   "metadata": {},
   "source": [
    "Any restaurant that is below 2.0 stars and/or is closed is considered a failure (`success` value of 0). Otherwise, it is considered a success."
   ]
  },
  {
   "cell_type": "code",
   "execution_count": 115,
   "metadata": {},
   "outputs": [],
   "source": [
    "rest_data['success'] = np.where(rest_data['stars'] < 3.5, 0,\n",
    "                                np.where(rest_data['is_open'] == 0, 0, 1))\n",
    "rest_data = rest_data.drop(columns = ['stars', 'is_open','level_0', 'index', 'postal_code'])"
   ]
  },
  {
   "cell_type": "code",
   "execution_count": 116,
   "metadata": {},
   "outputs": [
    {
     "name": "stdout",
     "output_type": "stream",
     "text": [
      "Number of unsuccessful restaurants: 3542\n",
      "Number of successful restaurants: 3660\n"
     ]
    }
   ],
   "source": [
    "print(f\"Number of unsuccessful restaurants: {(rest_data['success'] == 0).sum()}\")\n",
    "print(f\"Number of successful restaurants: {(rest_data['success'] == 1).sum()}\")"
   ]
  },
  {
   "cell_type": "markdown",
   "metadata": {},
   "source": [
    "# Data After Cleaning"
   ]
  },
  {
   "cell_type": "code",
   "execution_count": 117,
   "metadata": {},
   "outputs": [
    {
     "data": {
      "text/html": [
       "<div>\n",
       "<style scoped>\n",
       "    .dataframe tbody tr th:only-of-type {\n",
       "        vertical-align: middle;\n",
       "    }\n",
       "\n",
       "    .dataframe tbody tr th {\n",
       "        vertical-align: top;\n",
       "    }\n",
       "\n",
       "    .dataframe thead th {\n",
       "        text-align: right;\n",
       "    }\n",
       "</style>\n",
       "<table border=\"1\" class=\"dataframe\">\n",
       "  <thead>\n",
       "    <tr style=\"text-align: right;\">\n",
       "      <th></th>\n",
       "      <th>name</th>\n",
       "      <th>review_count</th>\n",
       "      <th>categories</th>\n",
       "      <th>FSA</th>\n",
       "      <th>Monday</th>\n",
       "      <th>Tuesday</th>\n",
       "      <th>Wednesday</th>\n",
       "      <th>Thursday</th>\n",
       "      <th>Friday</th>\n",
       "      <th>Saturday</th>\n",
       "      <th>Sunday</th>\n",
       "      <th>price_range</th>\n",
       "      <th>take_out</th>\n",
       "      <th>success</th>\n",
       "    </tr>\n",
       "  </thead>\n",
       "  <tbody>\n",
       "    <tr>\n",
       "      <th>0</th>\n",
       "      <td>Bakery Gateau</td>\n",
       "      <td>8</td>\n",
       "      <td>Bakeries</td>\n",
       "      <td>M3B</td>\n",
       "      <td>11.0</td>\n",
       "      <td>11.0</td>\n",
       "      <td>11.0</td>\n",
       "      <td>11.0</td>\n",
       "      <td>11.0</td>\n",
       "      <td>11.0</td>\n",
       "      <td>11.0</td>\n",
       "      <td>2</td>\n",
       "      <td>1</td>\n",
       "      <td>1</td>\n",
       "    </tr>\n",
       "    <tr>\n",
       "      <th>1</th>\n",
       "      <td>Bolt Fresh Bar</td>\n",
       "      <td>57</td>\n",
       "      <td>Vegetarian/Vegan</td>\n",
       "      <td>M6J</td>\n",
       "      <td>13.0</td>\n",
       "      <td>13.0</td>\n",
       "      <td>13.0</td>\n",
       "      <td>13.0</td>\n",
       "      <td>13.0</td>\n",
       "      <td>12.0</td>\n",
       "      <td>12.0</td>\n",
       "      <td>2</td>\n",
       "      <td>1</td>\n",
       "      <td>0</td>\n",
       "    </tr>\n",
       "    <tr>\n",
       "      <th>2</th>\n",
       "      <td>The Steady Cafe &amp; Bar</td>\n",
       "      <td>29</td>\n",
       "      <td>Coffee/Tea</td>\n",
       "      <td>M6H</td>\n",
       "      <td>0.0</td>\n",
       "      <td>9.0</td>\n",
       "      <td>9.0</td>\n",
       "      <td>9.0</td>\n",
       "      <td>7.0</td>\n",
       "      <td>8.0</td>\n",
       "      <td>5.0</td>\n",
       "      <td>2</td>\n",
       "      <td>0</td>\n",
       "      <td>0</td>\n",
       "    </tr>\n",
       "    <tr>\n",
       "      <th>3</th>\n",
       "      <td>Mad Crush Wine Bar</td>\n",
       "      <td>9</td>\n",
       "      <td>Breakfast/Brunch</td>\n",
       "      <td>M6G</td>\n",
       "      <td>0.0</td>\n",
       "      <td>0.0</td>\n",
       "      <td>0.0</td>\n",
       "      <td>16.0</td>\n",
       "      <td>16.0</td>\n",
       "      <td>16.0</td>\n",
       "      <td>0.0</td>\n",
       "      <td>3</td>\n",
       "      <td>1</td>\n",
       "      <td>0</td>\n",
       "    </tr>\n",
       "    <tr>\n",
       "      <th>4</th>\n",
       "      <td>Burrito Bandidos</td>\n",
       "      <td>43</td>\n",
       "      <td>Mexican</td>\n",
       "      <td>M4L</td>\n",
       "      <td>12.0</td>\n",
       "      <td>12.0</td>\n",
       "      <td>12.0</td>\n",
       "      <td>12.0</td>\n",
       "      <td>12.0</td>\n",
       "      <td>11.0</td>\n",
       "      <td>10.0</td>\n",
       "      <td>2</td>\n",
       "      <td>1</td>\n",
       "      <td>1</td>\n",
       "    </tr>\n",
       "    <tr>\n",
       "      <th>5</th>\n",
       "      <td>Medium Rare</td>\n",
       "      <td>22</td>\n",
       "      <td>Specialty</td>\n",
       "      <td>M9B</td>\n",
       "      <td>0.0</td>\n",
       "      <td>9.0</td>\n",
       "      <td>9.0</td>\n",
       "      <td>10.0</td>\n",
       "      <td>10.0</td>\n",
       "      <td>9.0</td>\n",
       "      <td>6.0</td>\n",
       "      <td>3</td>\n",
       "      <td>1</td>\n",
       "      <td>0</td>\n",
       "    </tr>\n",
       "    <tr>\n",
       "      <th>6</th>\n",
       "      <td>Paramount Fine Foods</td>\n",
       "      <td>40</td>\n",
       "      <td>West Asian</td>\n",
       "      <td>M6K</td>\n",
       "      <td>12.0</td>\n",
       "      <td>12.0</td>\n",
       "      <td>12.0</td>\n",
       "      <td>12.0</td>\n",
       "      <td>13.0</td>\n",
       "      <td>13.0</td>\n",
       "      <td>12.0</td>\n",
       "      <td>2</td>\n",
       "      <td>1</td>\n",
       "      <td>0</td>\n",
       "    </tr>\n",
       "    <tr>\n",
       "      <th>7</th>\n",
       "      <td>Aroma Espresso Bar</td>\n",
       "      <td>6</td>\n",
       "      <td>Coffee/Tea</td>\n",
       "      <td>M3J</td>\n",
       "      <td>16.0</td>\n",
       "      <td>16.0</td>\n",
       "      <td>16.0</td>\n",
       "      <td>16.0</td>\n",
       "      <td>16.0</td>\n",
       "      <td>11.0</td>\n",
       "      <td>11.0</td>\n",
       "      <td>1</td>\n",
       "      <td>1</td>\n",
       "      <td>1</td>\n",
       "    </tr>\n",
       "    <tr>\n",
       "      <th>8</th>\n",
       "      <td>Ume Fashion Sushi</td>\n",
       "      <td>25</td>\n",
       "      <td>Japanese</td>\n",
       "      <td>M1N</td>\n",
       "      <td>11.0</td>\n",
       "      <td>11.0</td>\n",
       "      <td>11.0</td>\n",
       "      <td>11.0</td>\n",
       "      <td>11.0</td>\n",
       "      <td>8.0</td>\n",
       "      <td>8.0</td>\n",
       "      <td>2</td>\n",
       "      <td>1</td>\n",
       "      <td>1</td>\n",
       "    </tr>\n",
       "    <tr>\n",
       "      <th>9</th>\n",
       "      <td>Not Your Mother</td>\n",
       "      <td>8</td>\n",
       "      <td>Vegetarian/Vegan</td>\n",
       "      <td>M6K</td>\n",
       "      <td>11.0</td>\n",
       "      <td>11.0</td>\n",
       "      <td>11.0</td>\n",
       "      <td>11.0</td>\n",
       "      <td>11.0</td>\n",
       "      <td>11.0</td>\n",
       "      <td>11.0</td>\n",
       "      <td>1</td>\n",
       "      <td>1</td>\n",
       "      <td>1</td>\n",
       "    </tr>\n",
       "  </tbody>\n",
       "</table>\n",
       "</div>"
      ],
      "text/plain": [
       "                    name  review_count        categories  FSA  Monday  \\\n",
       "0          Bakery Gateau             8          Bakeries  M3B    11.0   \n",
       "1         Bolt Fresh Bar            57  Vegetarian/Vegan  M6J    13.0   \n",
       "2  The Steady Cafe & Bar            29        Coffee/Tea  M6H     0.0   \n",
       "3     Mad Crush Wine Bar             9  Breakfast/Brunch  M6G     0.0   \n",
       "4       Burrito Bandidos            43           Mexican  M4L    12.0   \n",
       "5            Medium Rare            22         Specialty  M9B     0.0   \n",
       "6   Paramount Fine Foods            40        West Asian  M6K    12.0   \n",
       "7     Aroma Espresso Bar             6        Coffee/Tea  M3J    16.0   \n",
       "8      Ume Fashion Sushi            25          Japanese  M1N    11.0   \n",
       "9        Not Your Mother             8  Vegetarian/Vegan  M6K    11.0   \n",
       "\n",
       "   Tuesday  Wednesday  Thursday  Friday  Saturday  Sunday  price_range  \\\n",
       "0     11.0       11.0      11.0    11.0      11.0    11.0            2   \n",
       "1     13.0       13.0      13.0    13.0      12.0    12.0            2   \n",
       "2      9.0        9.0       9.0     7.0       8.0     5.0            2   \n",
       "3      0.0        0.0      16.0    16.0      16.0     0.0            3   \n",
       "4     12.0       12.0      12.0    12.0      11.0    10.0            2   \n",
       "5      9.0        9.0      10.0    10.0       9.0     6.0            3   \n",
       "6     12.0       12.0      12.0    13.0      13.0    12.0            2   \n",
       "7     16.0       16.0      16.0    16.0      11.0    11.0            1   \n",
       "8     11.0       11.0      11.0    11.0       8.0     8.0            2   \n",
       "9     11.0       11.0      11.0    11.0      11.0    11.0            1   \n",
       "\n",
       "   take_out  success  \n",
       "0         1        1  \n",
       "1         1        0  \n",
       "2         0        0  \n",
       "3         1        0  \n",
       "4         1        1  \n",
       "5         1        0  \n",
       "6         1        0  \n",
       "7         1        1  \n",
       "8         1        1  \n",
       "9         1        1  "
      ]
     },
     "execution_count": 117,
     "metadata": {},
     "output_type": "execute_result"
    }
   ],
   "source": [
    "rest_data.head(10)"
   ]
  },
  {
   "cell_type": "markdown",
   "metadata": {},
   "source": [
    "## Export File"
   ]
  },
  {
   "cell_type": "code",
   "execution_count": 118,
   "metadata": {},
   "outputs": [],
   "source": [
    "# Export to CSV\n",
    "\n",
    "rest_data.to_csv(\"cleaned_rest_data.csv\")"
   ]
  },
  {
   "cell_type": "code",
   "execution_count": 68,
   "metadata": {},
   "outputs": [
    {
     "data": {
      "text/plain": [
       "(7202, 18)"
      ]
     },
     "execution_count": 68,
     "metadata": {},
     "output_type": "execute_result"
    }
   ],
   "source": [
    "rest_data.shape"
   ]
  },
  {
   "cell_type": "code",
   "execution_count": null,
   "metadata": {},
   "outputs": [],
   "source": []
  }
 ],
 "metadata": {
  "kernelspec": {
   "display_name": "cp_restproject",
   "language": "python",
   "name": "cp_restproject"
  },
  "notify_time": "5",
  "toc": {
   "base_numbering": 1,
   "nav_menu": {},
   "number_sections": false,
   "sideBar": true,
   "skip_h1_title": false,
   "title_cell": "Table of Contents",
   "title_sidebar": "Contents",
   "toc_cell": true,
   "toc_position": {
    "height": "calc(100% - 180px)",
    "left": "10px",
    "top": "150px",
    "width": "165px"
   },
   "toc_section_display": true,
   "toc_window_display": true
  },
  "varInspector": {
   "cols": {
    "lenName": 16,
    "lenType": 16,
    "lenVar": 40
   },
   "kernels_config": {
    "python": {
     "delete_cmd_postfix": "",
     "delete_cmd_prefix": "del ",
     "library": "var_list.py",
     "varRefreshCmd": "print(var_dic_list())"
    },
    "r": {
     "delete_cmd_postfix": ") ",
     "delete_cmd_prefix": "rm(",
     "library": "var_list.r",
     "varRefreshCmd": "cat(var_dic_list()) "
    }
   },
   "types_to_exclude": [
    "module",
    "function",
    "builtin_function_or_method",
    "instance",
    "_Feature"
   ],
   "window_display": false
  }
 },
 "nbformat": 4,
 "nbformat_minor": 4
}
